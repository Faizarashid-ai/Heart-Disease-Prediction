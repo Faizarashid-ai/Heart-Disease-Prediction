{
  "cells": [
    {
      "cell_type": "code",
      "execution_count": 134,
      "metadata": {
        "id": "MyDjrg3tuIKs"
      },
      "outputs": [],
      "source": [
        "import pandas as pd\n",
        "import numpy as np\n",
        "from sklearn.model_selection import train_test_split\n",
        "from sklearn.preprocessing import StandardScaler\n",
        "from sklearn.ensemble import RandomForestClassifier\n",
        "from sklearn.linear_model import LogisticRegression\n",
        "from sklearn.metrics import accuracy_score, confusion_matrix, classification_report, roc_auc_score, roc_curve\n",
        "import matplotlib.pyplot as plt\n",
        "import seaborn as sns\n",
        "from sklearn.preprocessing import OneHotEncoder, MinMaxScaler\n",
        "from sklearn.compose import ColumnTransformer\n",
        "from sklearn.pipeline import Pipeline"
      ]
    },
    {
      "cell_type": "code",
      "execution_count": null,
      "metadata": {
        "colab": {
          "base_uri": "https://localhost:8080/"
        },
        "id": "v6M3dRqw9nek",
        "outputId": "fc452cbe-8bbe-49dc-f911-125d85a41483"
      },
      "outputs": [
        {
          "name": "stdout",
          "output_type": "stream",
          "text": [
            "Drive already mounted at /content/drive; to attempt to forcibly remount, call drive.mount(\"/content/drive\", force_remount=True).\n"
          ]
        }
      ],
      "source": [
        "# from google.colab import drive\n",
        "# drive.mount('/content/drive')"
      ]
    },
    {
      "cell_type": "code",
      "execution_count": 157,
      "metadata": {
        "id": "sa_WBjVEu46s"
      },
      "outputs": [],
      "source": [
        "# heart=pd.read_csv('/content/drive/MyDrive/Datasets/Heart_disease_cleveland.csv')\n",
        "heart=pd.read_csv('E:\\python projects\\datasets\\heart disease cleveland\\Heart_disease_cleveland.csv')"
      ]
    },
    {
      "cell_type": "code",
      "execution_count": 117,
      "metadata": {
        "colab": {
          "base_uri": "https://localhost:8080/"
        },
        "id": "RtqcxV4vw_gn",
        "outputId": "1e10b53a-9d72-41ae-bc8e-f9dc263e2c36"
      },
      "outputs": [
        {
          "data": {
            "text/plain": [
              "Index(['age', 'sex', 'cp', 'trestbps', 'chol', 'fbs', 'restecg', 'thalach',\n",
              "       'exang', 'oldpeak', 'slope', 'ca', 'thal', 'target'],\n",
              "      dtype='object')"
            ]
          },
          "execution_count": 117,
          "metadata": {},
          "output_type": "execute_result"
        }
      ],
      "source": [
        "heart.columns"
      ]
    },
    {
      "cell_type": "code",
      "execution_count": 118,
      "metadata": {
        "colab": {
          "base_uri": "https://localhost:8080/",
          "height": 523
        },
        "id": "8H916zMQxDPE",
        "outputId": "184981e8-f32f-4941-cf7a-02ce0268c1ba"
      },
      "outputs": [
        {
          "data": {
            "text/plain": [
              "age           int64\n",
              "sex           int64\n",
              "cp            int64\n",
              "trestbps      int64\n",
              "chol          int64\n",
              "fbs           int64\n",
              "restecg       int64\n",
              "thalach       int64\n",
              "exang         int64\n",
              "oldpeak     float64\n",
              "slope         int64\n",
              "ca            int64\n",
              "thal          int64\n",
              "target        int64\n",
              "dtype: object"
            ]
          },
          "execution_count": 118,
          "metadata": {},
          "output_type": "execute_result"
        }
      ],
      "source": [
        "heart.dtypes\n"
      ]
    },
    {
      "cell_type": "code",
      "execution_count": 142,
      "metadata": {
        "colab": {
          "base_uri": "https://localhost:8080/",
          "height": 423
        },
        "id": "JS19FQ9V4Hja",
        "outputId": "5712e3a3-a511-4acd-e197-e362b3219f7f"
      },
      "outputs": [
        {
          "data": {
            "application/vnd.google.colaboratory.intrinsic+json": {
              "summary": "{\n  \"name\": \"heart\",\n  \"rows\": 303,\n  \"fields\": [\n    {\n      \"column\": \"age\",\n      \"properties\": {\n        \"dtype\": \"boolean\",\n        \"num_unique_values\": 1,\n        \"samples\": [\n          false\n        ],\n        \"semantic_type\": \"\",\n        \"description\": \"\"\n      }\n    },\n    {\n      \"column\": \"sex\",\n      \"properties\": {\n        \"dtype\": \"boolean\",\n        \"num_unique_values\": 1,\n        \"samples\": [\n          false\n        ],\n        \"semantic_type\": \"\",\n        \"description\": \"\"\n      }\n    },\n    {\n      \"column\": \"cp\",\n      \"properties\": {\n        \"dtype\": \"boolean\",\n        \"num_unique_values\": 1,\n        \"samples\": [\n          false\n        ],\n        \"semantic_type\": \"\",\n        \"description\": \"\"\n      }\n    },\n    {\n      \"column\": \"trestbps\",\n      \"properties\": {\n        \"dtype\": \"boolean\",\n        \"num_unique_values\": 1,\n        \"samples\": [\n          false\n        ],\n        \"semantic_type\": \"\",\n        \"description\": \"\"\n      }\n    },\n    {\n      \"column\": \"chol\",\n      \"properties\": {\n        \"dtype\": \"boolean\",\n        \"num_unique_values\": 1,\n        \"samples\": [\n          false\n        ],\n        \"semantic_type\": \"\",\n        \"description\": \"\"\n      }\n    },\n    {\n      \"column\": \"fbs\",\n      \"properties\": {\n        \"dtype\": \"boolean\",\n        \"num_unique_values\": 1,\n        \"samples\": [\n          false\n        ],\n        \"semantic_type\": \"\",\n        \"description\": \"\"\n      }\n    },\n    {\n      \"column\": \"restecg\",\n      \"properties\": {\n        \"dtype\": \"boolean\",\n        \"num_unique_values\": 1,\n        \"samples\": [\n          false\n        ],\n        \"semantic_type\": \"\",\n        \"description\": \"\"\n      }\n    },\n    {\n      \"column\": \"thalach\",\n      \"properties\": {\n        \"dtype\": \"boolean\",\n        \"num_unique_values\": 1,\n        \"samples\": [\n          false\n        ],\n        \"semantic_type\": \"\",\n        \"description\": \"\"\n      }\n    },\n    {\n      \"column\": \"exang\",\n      \"properties\": {\n        \"dtype\": \"boolean\",\n        \"num_unique_values\": 1,\n        \"samples\": [\n          false\n        ],\n        \"semantic_type\": \"\",\n        \"description\": \"\"\n      }\n    },\n    {\n      \"column\": \"oldpeak\",\n      \"properties\": {\n        \"dtype\": \"boolean\",\n        \"num_unique_values\": 1,\n        \"samples\": [\n          false\n        ],\n        \"semantic_type\": \"\",\n        \"description\": \"\"\n      }\n    },\n    {\n      \"column\": \"slope\",\n      \"properties\": {\n        \"dtype\": \"boolean\",\n        \"num_unique_values\": 1,\n        \"samples\": [\n          false\n        ],\n        \"semantic_type\": \"\",\n        \"description\": \"\"\n      }\n    },\n    {\n      \"column\": \"ca\",\n      \"properties\": {\n        \"dtype\": \"boolean\",\n        \"num_unique_values\": 1,\n        \"samples\": [\n          false\n        ],\n        \"semantic_type\": \"\",\n        \"description\": \"\"\n      }\n    },\n    {\n      \"column\": \"thal\",\n      \"properties\": {\n        \"dtype\": \"boolean\",\n        \"num_unique_values\": 1,\n        \"samples\": [\n          false\n        ],\n        \"semantic_type\": \"\",\n        \"description\": \"\"\n      }\n    },\n    {\n      \"column\": \"target\",\n      \"properties\": {\n        \"dtype\": \"boolean\",\n        \"num_unique_values\": 1,\n        \"samples\": [\n          false\n        ],\n        \"semantic_type\": \"\",\n        \"description\": \"\"\n      }\n    }\n  ]\n}",
              "type": "dataframe"
            },
            "text/html": [
              "\n",
              "  <div id=\"df-fddfc3ba-ecfa-4c50-b7d9-f30cd7c840e7\" class=\"colab-df-container\">\n",
              "    <div>\n",
              "<style scoped>\n",
              "    .dataframe tbody tr th:only-of-type {\n",
              "        vertical-align: middle;\n",
              "    }\n",
              "\n",
              "    .dataframe tbody tr th {\n",
              "        vertical-align: top;\n",
              "    }\n",
              "\n",
              "    .dataframe thead th {\n",
              "        text-align: right;\n",
              "    }\n",
              "</style>\n",
              "<table border=\"1\" class=\"dataframe\">\n",
              "  <thead>\n",
              "    <tr style=\"text-align: right;\">\n",
              "      <th></th>\n",
              "      <th>age</th>\n",
              "      <th>sex</th>\n",
              "      <th>cp</th>\n",
              "      <th>trestbps</th>\n",
              "      <th>chol</th>\n",
              "      <th>fbs</th>\n",
              "      <th>restecg</th>\n",
              "      <th>thalach</th>\n",
              "      <th>exang</th>\n",
              "      <th>oldpeak</th>\n",
              "      <th>slope</th>\n",
              "      <th>ca</th>\n",
              "      <th>thal</th>\n",
              "      <th>target</th>\n",
              "    </tr>\n",
              "  </thead>\n",
              "  <tbody>\n",
              "    <tr>\n",
              "      <th>0</th>\n",
              "      <td>False</td>\n",
              "      <td>False</td>\n",
              "      <td>False</td>\n",
              "      <td>False</td>\n",
              "      <td>False</td>\n",
              "      <td>False</td>\n",
              "      <td>False</td>\n",
              "      <td>False</td>\n",
              "      <td>False</td>\n",
              "      <td>False</td>\n",
              "      <td>False</td>\n",
              "      <td>False</td>\n",
              "      <td>False</td>\n",
              "      <td>False</td>\n",
              "    </tr>\n",
              "    <tr>\n",
              "      <th>1</th>\n",
              "      <td>False</td>\n",
              "      <td>False</td>\n",
              "      <td>False</td>\n",
              "      <td>False</td>\n",
              "      <td>False</td>\n",
              "      <td>False</td>\n",
              "      <td>False</td>\n",
              "      <td>False</td>\n",
              "      <td>False</td>\n",
              "      <td>False</td>\n",
              "      <td>False</td>\n",
              "      <td>False</td>\n",
              "      <td>False</td>\n",
              "      <td>False</td>\n",
              "    </tr>\n",
              "    <tr>\n",
              "      <th>2</th>\n",
              "      <td>False</td>\n",
              "      <td>False</td>\n",
              "      <td>False</td>\n",
              "      <td>False</td>\n",
              "      <td>False</td>\n",
              "      <td>False</td>\n",
              "      <td>False</td>\n",
              "      <td>False</td>\n",
              "      <td>False</td>\n",
              "      <td>False</td>\n",
              "      <td>False</td>\n",
              "      <td>False</td>\n",
              "      <td>False</td>\n",
              "      <td>False</td>\n",
              "    </tr>\n",
              "    <tr>\n",
              "      <th>3</th>\n",
              "      <td>False</td>\n",
              "      <td>False</td>\n",
              "      <td>False</td>\n",
              "      <td>False</td>\n",
              "      <td>False</td>\n",
              "      <td>False</td>\n",
              "      <td>False</td>\n",
              "      <td>False</td>\n",
              "      <td>False</td>\n",
              "      <td>False</td>\n",
              "      <td>False</td>\n",
              "      <td>False</td>\n",
              "      <td>False</td>\n",
              "      <td>False</td>\n",
              "    </tr>\n",
              "    <tr>\n",
              "      <th>4</th>\n",
              "      <td>False</td>\n",
              "      <td>False</td>\n",
              "      <td>False</td>\n",
              "      <td>False</td>\n",
              "      <td>False</td>\n",
              "      <td>False</td>\n",
              "      <td>False</td>\n",
              "      <td>False</td>\n",
              "      <td>False</td>\n",
              "      <td>False</td>\n",
              "      <td>False</td>\n",
              "      <td>False</td>\n",
              "      <td>False</td>\n",
              "      <td>False</td>\n",
              "    </tr>\n",
              "    <tr>\n",
              "      <th>...</th>\n",
              "      <td>...</td>\n",
              "      <td>...</td>\n",
              "      <td>...</td>\n",
              "      <td>...</td>\n",
              "      <td>...</td>\n",
              "      <td>...</td>\n",
              "      <td>...</td>\n",
              "      <td>...</td>\n",
              "      <td>...</td>\n",
              "      <td>...</td>\n",
              "      <td>...</td>\n",
              "      <td>...</td>\n",
              "      <td>...</td>\n",
              "      <td>...</td>\n",
              "    </tr>\n",
              "    <tr>\n",
              "      <th>298</th>\n",
              "      <td>False</td>\n",
              "      <td>False</td>\n",
              "      <td>False</td>\n",
              "      <td>False</td>\n",
              "      <td>False</td>\n",
              "      <td>False</td>\n",
              "      <td>False</td>\n",
              "      <td>False</td>\n",
              "      <td>False</td>\n",
              "      <td>False</td>\n",
              "      <td>False</td>\n",
              "      <td>False</td>\n",
              "      <td>False</td>\n",
              "      <td>False</td>\n",
              "    </tr>\n",
              "    <tr>\n",
              "      <th>299</th>\n",
              "      <td>False</td>\n",
              "      <td>False</td>\n",
              "      <td>False</td>\n",
              "      <td>False</td>\n",
              "      <td>False</td>\n",
              "      <td>False</td>\n",
              "      <td>False</td>\n",
              "      <td>False</td>\n",
              "      <td>False</td>\n",
              "      <td>False</td>\n",
              "      <td>False</td>\n",
              "      <td>False</td>\n",
              "      <td>False</td>\n",
              "      <td>False</td>\n",
              "    </tr>\n",
              "    <tr>\n",
              "      <th>300</th>\n",
              "      <td>False</td>\n",
              "      <td>False</td>\n",
              "      <td>False</td>\n",
              "      <td>False</td>\n",
              "      <td>False</td>\n",
              "      <td>False</td>\n",
              "      <td>False</td>\n",
              "      <td>False</td>\n",
              "      <td>False</td>\n",
              "      <td>False</td>\n",
              "      <td>False</td>\n",
              "      <td>False</td>\n",
              "      <td>False</td>\n",
              "      <td>False</td>\n",
              "    </tr>\n",
              "    <tr>\n",
              "      <th>301</th>\n",
              "      <td>False</td>\n",
              "      <td>False</td>\n",
              "      <td>False</td>\n",
              "      <td>False</td>\n",
              "      <td>False</td>\n",
              "      <td>False</td>\n",
              "      <td>False</td>\n",
              "      <td>False</td>\n",
              "      <td>False</td>\n",
              "      <td>False</td>\n",
              "      <td>False</td>\n",
              "      <td>False</td>\n",
              "      <td>False</td>\n",
              "      <td>False</td>\n",
              "    </tr>\n",
              "    <tr>\n",
              "      <th>302</th>\n",
              "      <td>False</td>\n",
              "      <td>False</td>\n",
              "      <td>False</td>\n",
              "      <td>False</td>\n",
              "      <td>False</td>\n",
              "      <td>False</td>\n",
              "      <td>False</td>\n",
              "      <td>False</td>\n",
              "      <td>False</td>\n",
              "      <td>False</td>\n",
              "      <td>False</td>\n",
              "      <td>False</td>\n",
              "      <td>False</td>\n",
              "      <td>False</td>\n",
              "    </tr>\n",
              "  </tbody>\n",
              "</table>\n",
              "<p>303 rows × 14 columns</p>\n",
              "</div>\n",
              "    <div class=\"colab-df-buttons\">\n",
              "\n",
              "  <div class=\"colab-df-container\">\n",
              "    <button class=\"colab-df-convert\" onclick=\"convertToInteractive('df-fddfc3ba-ecfa-4c50-b7d9-f30cd7c840e7')\"\n",
              "            title=\"Convert this dataframe to an interactive table.\"\n",
              "            style=\"display:none;\">\n",
              "\n",
              "  <svg xmlns=\"http://www.w3.org/2000/svg\" height=\"24px\" viewBox=\"0 -960 960 960\">\n",
              "    <path d=\"M120-120v-720h720v720H120Zm60-500h600v-160H180v160Zm220 220h160v-160H400v160Zm0 220h160v-160H400v160ZM180-400h160v-160H180v160Zm440 0h160v-160H620v160ZM180-180h160v-160H180v160Zm440 0h160v-160H620v160Z\"/>\n",
              "  </svg>\n",
              "    </button>\n",
              "\n",
              "  <style>\n",
              "    .colab-df-container {\n",
              "      display:flex;\n",
              "      gap: 12px;\n",
              "    }\n",
              "\n",
              "    .colab-df-convert {\n",
              "      background-color: #E8F0FE;\n",
              "      border: none;\n",
              "      border-radius: 50%;\n",
              "      cursor: pointer;\n",
              "      display: none;\n",
              "      fill: #1967D2;\n",
              "      height: 32px;\n",
              "      padding: 0 0 0 0;\n",
              "      width: 32px;\n",
              "    }\n",
              "\n",
              "    .colab-df-convert:hover {\n",
              "      background-color: #E2EBFA;\n",
              "      box-shadow: 0px 1px 2px rgba(60, 64, 67, 0.3), 0px 1px 3px 1px rgba(60, 64, 67, 0.15);\n",
              "      fill: #174EA6;\n",
              "    }\n",
              "\n",
              "    .colab-df-buttons div {\n",
              "      margin-bottom: 4px;\n",
              "    }\n",
              "\n",
              "    [theme=dark] .colab-df-convert {\n",
              "      background-color: #3B4455;\n",
              "      fill: #D2E3FC;\n",
              "    }\n",
              "\n",
              "    [theme=dark] .colab-df-convert:hover {\n",
              "      background-color: #434B5C;\n",
              "      box-shadow: 0px 1px 3px 1px rgba(0, 0, 0, 0.15);\n",
              "      filter: drop-shadow(0px 1px 2px rgba(0, 0, 0, 0.3));\n",
              "      fill: #FFFFFF;\n",
              "    }\n",
              "  </style>\n",
              "\n",
              "    <script>\n",
              "      const buttonEl =\n",
              "        document.querySelector('#df-fddfc3ba-ecfa-4c50-b7d9-f30cd7c840e7 button.colab-df-convert');\n",
              "      buttonEl.style.display =\n",
              "        google.colab.kernel.accessAllowed ? 'block' : 'none';\n",
              "\n",
              "      async function convertToInteractive(key) {\n",
              "        const element = document.querySelector('#df-fddfc3ba-ecfa-4c50-b7d9-f30cd7c840e7');\n",
              "        const dataTable =\n",
              "          await google.colab.kernel.invokeFunction('convertToInteractive',\n",
              "                                                    [key], {});\n",
              "        if (!dataTable) return;\n",
              "\n",
              "        const docLinkHtml = 'Like what you see? Visit the ' +\n",
              "          '<a target=\"_blank\" href=https://colab.research.google.com/notebooks/data_table.ipynb>data table notebook</a>'\n",
              "          + ' to learn more about interactive tables.';\n",
              "        element.innerHTML = '';\n",
              "        dataTable['output_type'] = 'display_data';\n",
              "        await google.colab.output.renderOutput(dataTable, element);\n",
              "        const docLink = document.createElement('div');\n",
              "        docLink.innerHTML = docLinkHtml;\n",
              "        element.appendChild(docLink);\n",
              "      }\n",
              "    </script>\n",
              "  </div>\n",
              "\n",
              "\n",
              "    <div id=\"df-e7cbdbab-b03c-49f4-ae1c-91acd12a2e9b\">\n",
              "      <button class=\"colab-df-quickchart\" onclick=\"quickchart('df-e7cbdbab-b03c-49f4-ae1c-91acd12a2e9b')\"\n",
              "                title=\"Suggest charts\"\n",
              "                style=\"display:none;\">\n",
              "\n",
              "<svg xmlns=\"http://www.w3.org/2000/svg\" height=\"24px\"viewBox=\"0 0 24 24\"\n",
              "     width=\"24px\">\n",
              "    <g>\n",
              "        <path d=\"M19 3H5c-1.1 0-2 .9-2 2v14c0 1.1.9 2 2 2h14c1.1 0 2-.9 2-2V5c0-1.1-.9-2-2-2zM9 17H7v-7h2v7zm4 0h-2V7h2v10zm4 0h-2v-4h2v4z\"/>\n",
              "    </g>\n",
              "</svg>\n",
              "      </button>\n",
              "\n",
              "<style>\n",
              "  .colab-df-quickchart {\n",
              "      --bg-color: #E8F0FE;\n",
              "      --fill-color: #1967D2;\n",
              "      --hover-bg-color: #E2EBFA;\n",
              "      --hover-fill-color: #174EA6;\n",
              "      --disabled-fill-color: #AAA;\n",
              "      --disabled-bg-color: #DDD;\n",
              "  }\n",
              "\n",
              "  [theme=dark] .colab-df-quickchart {\n",
              "      --bg-color: #3B4455;\n",
              "      --fill-color: #D2E3FC;\n",
              "      --hover-bg-color: #434B5C;\n",
              "      --hover-fill-color: #FFFFFF;\n",
              "      --disabled-bg-color: #3B4455;\n",
              "      --disabled-fill-color: #666;\n",
              "  }\n",
              "\n",
              "  .colab-df-quickchart {\n",
              "    background-color: var(--bg-color);\n",
              "    border: none;\n",
              "    border-radius: 50%;\n",
              "    cursor: pointer;\n",
              "    display: none;\n",
              "    fill: var(--fill-color);\n",
              "    height: 32px;\n",
              "    padding: 0;\n",
              "    width: 32px;\n",
              "  }\n",
              "\n",
              "  .colab-df-quickchart:hover {\n",
              "    background-color: var(--hover-bg-color);\n",
              "    box-shadow: 0 1px 2px rgba(60, 64, 67, 0.3), 0 1px 3px 1px rgba(60, 64, 67, 0.15);\n",
              "    fill: var(--button-hover-fill-color);\n",
              "  }\n",
              "\n",
              "  .colab-df-quickchart-complete:disabled,\n",
              "  .colab-df-quickchart-complete:disabled:hover {\n",
              "    background-color: var(--disabled-bg-color);\n",
              "    fill: var(--disabled-fill-color);\n",
              "    box-shadow: none;\n",
              "  }\n",
              "\n",
              "  .colab-df-spinner {\n",
              "    border: 2px solid var(--fill-color);\n",
              "    border-color: transparent;\n",
              "    border-bottom-color: var(--fill-color);\n",
              "    animation:\n",
              "      spin 1s steps(1) infinite;\n",
              "  }\n",
              "\n",
              "  @keyframes spin {\n",
              "    0% {\n",
              "      border-color: transparent;\n",
              "      border-bottom-color: var(--fill-color);\n",
              "      border-left-color: var(--fill-color);\n",
              "    }\n",
              "    20% {\n",
              "      border-color: transparent;\n",
              "      border-left-color: var(--fill-color);\n",
              "      border-top-color: var(--fill-color);\n",
              "    }\n",
              "    30% {\n",
              "      border-color: transparent;\n",
              "      border-left-color: var(--fill-color);\n",
              "      border-top-color: var(--fill-color);\n",
              "      border-right-color: var(--fill-color);\n",
              "    }\n",
              "    40% {\n",
              "      border-color: transparent;\n",
              "      border-right-color: var(--fill-color);\n",
              "      border-top-color: var(--fill-color);\n",
              "    }\n",
              "    60% {\n",
              "      border-color: transparent;\n",
              "      border-right-color: var(--fill-color);\n",
              "    }\n",
              "    80% {\n",
              "      border-color: transparent;\n",
              "      border-right-color: var(--fill-color);\n",
              "      border-bottom-color: var(--fill-color);\n",
              "    }\n",
              "    90% {\n",
              "      border-color: transparent;\n",
              "      border-bottom-color: var(--fill-color);\n",
              "    }\n",
              "  }\n",
              "</style>\n",
              "\n",
              "      <script>\n",
              "        async function quickchart(key) {\n",
              "          const quickchartButtonEl =\n",
              "            document.querySelector('#' + key + ' button');\n",
              "          quickchartButtonEl.disabled = true;  // To prevent multiple clicks.\n",
              "          quickchartButtonEl.classList.add('colab-df-spinner');\n",
              "          try {\n",
              "            const charts = await google.colab.kernel.invokeFunction(\n",
              "                'suggestCharts', [key], {});\n",
              "          } catch (error) {\n",
              "            console.error('Error during call to suggestCharts:', error);\n",
              "          }\n",
              "          quickchartButtonEl.classList.remove('colab-df-spinner');\n",
              "          quickchartButtonEl.classList.add('colab-df-quickchart-complete');\n",
              "        }\n",
              "        (() => {\n",
              "          let quickchartButtonEl =\n",
              "            document.querySelector('#df-e7cbdbab-b03c-49f4-ae1c-91acd12a2e9b button');\n",
              "          quickchartButtonEl.style.display =\n",
              "            google.colab.kernel.accessAllowed ? 'block' : 'none';\n",
              "        })();\n",
              "      </script>\n",
              "    </div>\n",
              "\n",
              "    </div>\n",
              "  </div>\n"
            ],
            "text/plain": [
              "       age    sex     cp  trestbps   chol    fbs  restecg  thalach  exang  \\\n",
              "0    False  False  False     False  False  False    False    False  False   \n",
              "1    False  False  False     False  False  False    False    False  False   \n",
              "2    False  False  False     False  False  False    False    False  False   \n",
              "3    False  False  False     False  False  False    False    False  False   \n",
              "4    False  False  False     False  False  False    False    False  False   \n",
              "..     ...    ...    ...       ...    ...    ...      ...      ...    ...   \n",
              "298  False  False  False     False  False  False    False    False  False   \n",
              "299  False  False  False     False  False  False    False    False  False   \n",
              "300  False  False  False     False  False  False    False    False  False   \n",
              "301  False  False  False     False  False  False    False    False  False   \n",
              "302  False  False  False     False  False  False    False    False  False   \n",
              "\n",
              "     oldpeak  slope     ca   thal  target  \n",
              "0      False  False  False  False   False  \n",
              "1      False  False  False  False   False  \n",
              "2      False  False  False  False   False  \n",
              "3      False  False  False  False   False  \n",
              "4      False  False  False  False   False  \n",
              "..       ...    ...    ...    ...     ...  \n",
              "298    False  False  False  False   False  \n",
              "299    False  False  False  False   False  \n",
              "300    False  False  False  False   False  \n",
              "301    False  False  False  False   False  \n",
              "302    False  False  False  False   False  \n",
              "\n",
              "[303 rows x 14 columns]"
            ]
          },
          "execution_count": 142,
          "metadata": {},
          "output_type": "execute_result"
        }
      ],
      "source": [
        "heart.isnull()"
      ]
    },
    {
      "cell_type": "code",
      "execution_count": 5,
      "metadata": {
        "colab": {
          "base_uri": "https://localhost:8080/",
          "height": 523
        },
        "id": "JfEIyUDsxIm6",
        "outputId": "60e54188-e1f6-4ee1-c6f1-017f3c43f9e1"
      },
      "outputs": [
        {
          "data": {
            "text/plain": [
              "age         0\n",
              "sex         0\n",
              "cp          0\n",
              "trestbps    0\n",
              "chol        0\n",
              "fbs         0\n",
              "restecg     0\n",
              "thalach     0\n",
              "exang       0\n",
              "oldpeak     0\n",
              "slope       0\n",
              "ca          0\n",
              "thal        0\n",
              "target      0\n",
              "dtype: int64"
            ]
          },
          "execution_count": 5,
          "metadata": {},
          "output_type": "execute_result"
        }
      ],
      "source": [
        "heart.isnull().sum()"
      ]
    },
    {
      "cell_type": "code",
      "execution_count": 6,
      "metadata": {
        "colab": {
          "base_uri": "https://localhost:8080/"
        },
        "id": "iFEPRpZavF_R",
        "outputId": "84f9251b-3c13-4c38-b2f1-610fd256cc03"
      },
      "outputs": [
        {
          "data": {
            "text/plain": [
              "(303, 14)"
            ]
          },
          "execution_count": 6,
          "metadata": {},
          "output_type": "execute_result"
        }
      ],
      "source": [
        "heart.shape"
      ]
    },
    {
      "cell_type": "code",
      "execution_count": 7,
      "metadata": {
        "colab": {
          "base_uri": "https://localhost:8080/",
          "height": 320
        },
        "id": "fa_mHvInvKTV",
        "outputId": "e34f5a2e-e22f-4e24-e4fa-ac27c68b1b39"
      },
      "outputs": [
        {
          "data": {
            "text/html": [
              "<div>\n",
              "<style scoped>\n",
              "    .dataframe tbody tr th:only-of-type {\n",
              "        vertical-align: middle;\n",
              "    }\n",
              "\n",
              "    .dataframe tbody tr th {\n",
              "        vertical-align: top;\n",
              "    }\n",
              "\n",
              "    .dataframe thead th {\n",
              "        text-align: right;\n",
              "    }\n",
              "</style>\n",
              "<table border=\"1\" class=\"dataframe\">\n",
              "  <thead>\n",
              "    <tr style=\"text-align: right;\">\n",
              "      <th></th>\n",
              "      <th>age</th>\n",
              "      <th>sex</th>\n",
              "      <th>cp</th>\n",
              "      <th>trestbps</th>\n",
              "      <th>chol</th>\n",
              "      <th>fbs</th>\n",
              "      <th>restecg</th>\n",
              "      <th>thalach</th>\n",
              "      <th>exang</th>\n",
              "      <th>oldpeak</th>\n",
              "      <th>slope</th>\n",
              "      <th>ca</th>\n",
              "      <th>thal</th>\n",
              "      <th>target</th>\n",
              "    </tr>\n",
              "  </thead>\n",
              "  <tbody>\n",
              "    <tr>\n",
              "      <th>count</th>\n",
              "      <td>303.000000</td>\n",
              "      <td>303.000000</td>\n",
              "      <td>303.000000</td>\n",
              "      <td>303.000000</td>\n",
              "      <td>303.000000</td>\n",
              "      <td>303.000000</td>\n",
              "      <td>303.000000</td>\n",
              "      <td>303.000000</td>\n",
              "      <td>303.000000</td>\n",
              "      <td>303.000000</td>\n",
              "      <td>303.000000</td>\n",
              "      <td>303.000000</td>\n",
              "      <td>303.000000</td>\n",
              "      <td>303.000000</td>\n",
              "    </tr>\n",
              "    <tr>\n",
              "      <th>mean</th>\n",
              "      <td>54.438944</td>\n",
              "      <td>0.679868</td>\n",
              "      <td>2.158416</td>\n",
              "      <td>131.689769</td>\n",
              "      <td>246.693069</td>\n",
              "      <td>0.148515</td>\n",
              "      <td>0.990099</td>\n",
              "      <td>149.607261</td>\n",
              "      <td>0.326733</td>\n",
              "      <td>1.039604</td>\n",
              "      <td>0.600660</td>\n",
              "      <td>0.663366</td>\n",
              "      <td>1.831683</td>\n",
              "      <td>0.458746</td>\n",
              "    </tr>\n",
              "    <tr>\n",
              "      <th>std</th>\n",
              "      <td>9.038662</td>\n",
              "      <td>0.467299</td>\n",
              "      <td>0.960126</td>\n",
              "      <td>17.599748</td>\n",
              "      <td>51.776918</td>\n",
              "      <td>0.356198</td>\n",
              "      <td>0.994971</td>\n",
              "      <td>22.875003</td>\n",
              "      <td>0.469794</td>\n",
              "      <td>1.161075</td>\n",
              "      <td>0.616226</td>\n",
              "      <td>0.934375</td>\n",
              "      <td>0.956705</td>\n",
              "      <td>0.499120</td>\n",
              "    </tr>\n",
              "    <tr>\n",
              "      <th>min</th>\n",
              "      <td>29.000000</td>\n",
              "      <td>0.000000</td>\n",
              "      <td>0.000000</td>\n",
              "      <td>94.000000</td>\n",
              "      <td>126.000000</td>\n",
              "      <td>0.000000</td>\n",
              "      <td>0.000000</td>\n",
              "      <td>71.000000</td>\n",
              "      <td>0.000000</td>\n",
              "      <td>0.000000</td>\n",
              "      <td>0.000000</td>\n",
              "      <td>0.000000</td>\n",
              "      <td>1.000000</td>\n",
              "      <td>0.000000</td>\n",
              "    </tr>\n",
              "    <tr>\n",
              "      <th>25%</th>\n",
              "      <td>48.000000</td>\n",
              "      <td>0.000000</td>\n",
              "      <td>2.000000</td>\n",
              "      <td>120.000000</td>\n",
              "      <td>211.000000</td>\n",
              "      <td>0.000000</td>\n",
              "      <td>0.000000</td>\n",
              "      <td>133.500000</td>\n",
              "      <td>0.000000</td>\n",
              "      <td>0.000000</td>\n",
              "      <td>0.000000</td>\n",
              "      <td>0.000000</td>\n",
              "      <td>1.000000</td>\n",
              "      <td>0.000000</td>\n",
              "    </tr>\n",
              "    <tr>\n",
              "      <th>50%</th>\n",
              "      <td>56.000000</td>\n",
              "      <td>1.000000</td>\n",
              "      <td>2.000000</td>\n",
              "      <td>130.000000</td>\n",
              "      <td>241.000000</td>\n",
              "      <td>0.000000</td>\n",
              "      <td>1.000000</td>\n",
              "      <td>153.000000</td>\n",
              "      <td>0.000000</td>\n",
              "      <td>0.800000</td>\n",
              "      <td>1.000000</td>\n",
              "      <td>0.000000</td>\n",
              "      <td>1.000000</td>\n",
              "      <td>0.000000</td>\n",
              "    </tr>\n",
              "    <tr>\n",
              "      <th>75%</th>\n",
              "      <td>61.000000</td>\n",
              "      <td>1.000000</td>\n",
              "      <td>3.000000</td>\n",
              "      <td>140.000000</td>\n",
              "      <td>275.000000</td>\n",
              "      <td>0.000000</td>\n",
              "      <td>2.000000</td>\n",
              "      <td>166.000000</td>\n",
              "      <td>1.000000</td>\n",
              "      <td>1.600000</td>\n",
              "      <td>1.000000</td>\n",
              "      <td>1.000000</td>\n",
              "      <td>3.000000</td>\n",
              "      <td>1.000000</td>\n",
              "    </tr>\n",
              "    <tr>\n",
              "      <th>max</th>\n",
              "      <td>77.000000</td>\n",
              "      <td>1.000000</td>\n",
              "      <td>3.000000</td>\n",
              "      <td>200.000000</td>\n",
              "      <td>564.000000</td>\n",
              "      <td>1.000000</td>\n",
              "      <td>2.000000</td>\n",
              "      <td>202.000000</td>\n",
              "      <td>1.000000</td>\n",
              "      <td>6.200000</td>\n",
              "      <td>2.000000</td>\n",
              "      <td>3.000000</td>\n",
              "      <td>3.000000</td>\n",
              "      <td>1.000000</td>\n",
              "    </tr>\n",
              "  </tbody>\n",
              "</table>\n",
              "</div>"
            ],
            "text/plain": [
              "              age         sex          cp    trestbps        chol         fbs  \\\n",
              "count  303.000000  303.000000  303.000000  303.000000  303.000000  303.000000   \n",
              "mean    54.438944    0.679868    2.158416  131.689769  246.693069    0.148515   \n",
              "std      9.038662    0.467299    0.960126   17.599748   51.776918    0.356198   \n",
              "min     29.000000    0.000000    0.000000   94.000000  126.000000    0.000000   \n",
              "25%     48.000000    0.000000    2.000000  120.000000  211.000000    0.000000   \n",
              "50%     56.000000    1.000000    2.000000  130.000000  241.000000    0.000000   \n",
              "75%     61.000000    1.000000    3.000000  140.000000  275.000000    0.000000   \n",
              "max     77.000000    1.000000    3.000000  200.000000  564.000000    1.000000   \n",
              "\n",
              "          restecg     thalach       exang     oldpeak       slope          ca  \\\n",
              "count  303.000000  303.000000  303.000000  303.000000  303.000000  303.000000   \n",
              "mean     0.990099  149.607261    0.326733    1.039604    0.600660    0.663366   \n",
              "std      0.994971   22.875003    0.469794    1.161075    0.616226    0.934375   \n",
              "min      0.000000   71.000000    0.000000    0.000000    0.000000    0.000000   \n",
              "25%      0.000000  133.500000    0.000000    0.000000    0.000000    0.000000   \n",
              "50%      1.000000  153.000000    0.000000    0.800000    1.000000    0.000000   \n",
              "75%      2.000000  166.000000    1.000000    1.600000    1.000000    1.000000   \n",
              "max      2.000000  202.000000    1.000000    6.200000    2.000000    3.000000   \n",
              "\n",
              "             thal      target  \n",
              "count  303.000000  303.000000  \n",
              "mean     1.831683    0.458746  \n",
              "std      0.956705    0.499120  \n",
              "min      1.000000    0.000000  \n",
              "25%      1.000000    0.000000  \n",
              "50%      1.000000    0.000000  \n",
              "75%      3.000000    1.000000  \n",
              "max      3.000000    1.000000  "
            ]
          },
          "execution_count": 7,
          "metadata": {},
          "output_type": "execute_result"
        }
      ],
      "source": [
        "heart.describe()"
      ]
    },
    {
      "cell_type": "markdown",
      "metadata": {
        "id": "RMCU60ZO35UL"
      },
      "source": [
        "Unique values per feature"
      ]
    },
    {
      "cell_type": "code",
      "execution_count": 8,
      "metadata": {
        "colab": {
          "base_uri": "https://localhost:8080/",
          "height": 523
        },
        "id": "WpCtKuyF3voB",
        "outputId": "01e02bcd-c324-49ed-ec8e-04308e8866e3"
      },
      "outputs": [
        {
          "data": {
            "text/plain": [
              "age          41\n",
              "sex           2\n",
              "cp            4\n",
              "trestbps     50\n",
              "chol        152\n",
              "fbs           2\n",
              "restecg       3\n",
              "thalach      91\n",
              "exang         2\n",
              "oldpeak      40\n",
              "slope         3\n",
              "ca            4\n",
              "thal          3\n",
              "target        2\n",
              "dtype: int64"
            ]
          },
          "execution_count": 8,
          "metadata": {},
          "output_type": "execute_result"
        }
      ],
      "source": [
        "heart.nunique()\n"
      ]
    },
    {
      "cell_type": "code",
      "execution_count": 9,
      "metadata": {
        "colab": {
          "base_uri": "https://localhost:8080/",
          "height": 206
        },
        "id": "FgTwYX59vUCd",
        "outputId": "efaff6cd-6ca0-4683-8721-50496c08b72b"
      },
      "outputs": [
        {
          "data": {
            "text/html": [
              "<div>\n",
              "<style scoped>\n",
              "    .dataframe tbody tr th:only-of-type {\n",
              "        vertical-align: middle;\n",
              "    }\n",
              "\n",
              "    .dataframe tbody tr th {\n",
              "        vertical-align: top;\n",
              "    }\n",
              "\n",
              "    .dataframe thead th {\n",
              "        text-align: right;\n",
              "    }\n",
              "</style>\n",
              "<table border=\"1\" class=\"dataframe\">\n",
              "  <thead>\n",
              "    <tr style=\"text-align: right;\">\n",
              "      <th></th>\n",
              "      <th>age</th>\n",
              "      <th>sex</th>\n",
              "      <th>cp</th>\n",
              "      <th>trestbps</th>\n",
              "      <th>chol</th>\n",
              "      <th>fbs</th>\n",
              "      <th>restecg</th>\n",
              "      <th>thalach</th>\n",
              "      <th>exang</th>\n",
              "      <th>oldpeak</th>\n",
              "      <th>slope</th>\n",
              "      <th>ca</th>\n",
              "      <th>thal</th>\n",
              "      <th>target</th>\n",
              "    </tr>\n",
              "  </thead>\n",
              "  <tbody>\n",
              "    <tr>\n",
              "      <th>0</th>\n",
              "      <td>63</td>\n",
              "      <td>1</td>\n",
              "      <td>0</td>\n",
              "      <td>145</td>\n",
              "      <td>233</td>\n",
              "      <td>1</td>\n",
              "      <td>2</td>\n",
              "      <td>150</td>\n",
              "      <td>0</td>\n",
              "      <td>2.3</td>\n",
              "      <td>2</td>\n",
              "      <td>0</td>\n",
              "      <td>2</td>\n",
              "      <td>0</td>\n",
              "    </tr>\n",
              "    <tr>\n",
              "      <th>1</th>\n",
              "      <td>67</td>\n",
              "      <td>1</td>\n",
              "      <td>3</td>\n",
              "      <td>160</td>\n",
              "      <td>286</td>\n",
              "      <td>0</td>\n",
              "      <td>2</td>\n",
              "      <td>108</td>\n",
              "      <td>1</td>\n",
              "      <td>1.5</td>\n",
              "      <td>1</td>\n",
              "      <td>3</td>\n",
              "      <td>1</td>\n",
              "      <td>1</td>\n",
              "    </tr>\n",
              "    <tr>\n",
              "      <th>2</th>\n",
              "      <td>67</td>\n",
              "      <td>1</td>\n",
              "      <td>3</td>\n",
              "      <td>120</td>\n",
              "      <td>229</td>\n",
              "      <td>0</td>\n",
              "      <td>2</td>\n",
              "      <td>129</td>\n",
              "      <td>1</td>\n",
              "      <td>2.6</td>\n",
              "      <td>1</td>\n",
              "      <td>2</td>\n",
              "      <td>3</td>\n",
              "      <td>1</td>\n",
              "    </tr>\n",
              "    <tr>\n",
              "      <th>3</th>\n",
              "      <td>37</td>\n",
              "      <td>1</td>\n",
              "      <td>2</td>\n",
              "      <td>130</td>\n",
              "      <td>250</td>\n",
              "      <td>0</td>\n",
              "      <td>0</td>\n",
              "      <td>187</td>\n",
              "      <td>0</td>\n",
              "      <td>3.5</td>\n",
              "      <td>2</td>\n",
              "      <td>0</td>\n",
              "      <td>1</td>\n",
              "      <td>0</td>\n",
              "    </tr>\n",
              "    <tr>\n",
              "      <th>4</th>\n",
              "      <td>41</td>\n",
              "      <td>0</td>\n",
              "      <td>1</td>\n",
              "      <td>130</td>\n",
              "      <td>204</td>\n",
              "      <td>0</td>\n",
              "      <td>2</td>\n",
              "      <td>172</td>\n",
              "      <td>0</td>\n",
              "      <td>1.4</td>\n",
              "      <td>0</td>\n",
              "      <td>0</td>\n",
              "      <td>1</td>\n",
              "      <td>0</td>\n",
              "    </tr>\n",
              "  </tbody>\n",
              "</table>\n",
              "</div>"
            ],
            "text/plain": [
              "   age  sex  cp  trestbps  chol  fbs  restecg  thalach  exang  oldpeak  slope  \\\n",
              "0   63    1   0       145   233    1        2      150      0      2.3      2   \n",
              "1   67    1   3       160   286    0        2      108      1      1.5      1   \n",
              "2   67    1   3       120   229    0        2      129      1      2.6      1   \n",
              "3   37    1   2       130   250    0        0      187      0      3.5      2   \n",
              "4   41    0   1       130   204    0        2      172      0      1.4      0   \n",
              "\n",
              "   ca  thal  target  \n",
              "0   0     2       0  \n",
              "1   3     1       1  \n",
              "2   2     3       1  \n",
              "3   0     1       0  \n",
              "4   0     1       0  "
            ]
          },
          "execution_count": 9,
          "metadata": {},
          "output_type": "execute_result"
        }
      ],
      "source": [
        "heart.head()"
      ]
    },
    {
      "cell_type": "markdown",
      "metadata": {
        "id": "sitL33qN2QM9"
      },
      "source": [
        "Preprocessing"
      ]
    },
    {
      "cell_type": "code",
      "execution_count": 136,
      "metadata": {
        "colab": {
          "base_uri": "https://localhost:8080/"
        },
        "id": "H2H7FzT6w5UF",
        "outputId": "10baf1ef-2235-4ee0-c346-eeaec65db016"
      },
      "outputs": [],
      "source": [
        "# Defining column groups\n",
        "categorical_cols = ['sex', 'cp', 'fbs', 'restecg', 'exang', 'slope', 'ca', 'thal']\n",
        "numerical_cols = ['age', 'trestbps', 'chol', 'thalach', 'oldpeak']\n",
        "\n",
        "\n",
        "heart.replace('?', np.nan, inplace=True)\n",
        "\n",
        "# Converting columns with missing values to numeric\n",
        "heart['ca'] = pd.to_numeric(heart['ca'])\n",
        "heart['thal'] = pd.to_numeric(heart['thal'])\n",
        "\n"
      ]
    },
    {
      "cell_type": "code",
      "execution_count": 137,
      "metadata": {},
      "outputs": [],
      "source": [
        "heart['ca'] = heart['ca'].fillna(heart['ca'].median())\n",
        "heart['thal'] = heart['thal'].fillna(heart['thal'].median())\n",
        "\n",
        "# Separating features and target\n",
        "X = heart.drop(\"target\", axis=1)\n",
        "y = heart[\"target\"]"
      ]
    },
    {
      "cell_type": "code",
      "execution_count": 138,
      "metadata": {},
      "outputs": [],
      "source": [
        "preprocessor = ColumnTransformer(transformers=[\n",
        "    ('num', MinMaxScaler(), numerical_cols),\n",
        "    ('ohe', OneHotEncoder(), categorical_cols)\n",
        "])\n",
        "\n",
        "X_processed = preprocessor.fit_transform(X)\n",
        "\n",
        "# Converting back to DataFrame with proper column names\n",
        "num_features = numerical_cols\n",
        "cat_features = preprocessor.named_transformers_['ohe'].get_feature_names_out(categorical_cols)\n",
        "all_features = list(num_features) + list(cat_features)\n",
        "\n",
        "X_processed_df = pd.DataFrame(X_processed, columns=all_features)\n",
        "\n"
      ]
    },
    {
      "cell_type": "code",
      "execution_count": null,
      "metadata": {},
      "outputs": [
        {
          "name": "stdout",
          "output_type": "stream",
          "text": [
            "        age  trestbps      chol   thalach   oldpeak  sex_0  sex_1  cp_0  cp_1  \\\n",
            "0  0.708333  0.481132  0.244292  0.603053  0.370968    0.0    1.0   1.0   0.0   \n",
            "1  0.791667  0.622642  0.365297  0.282443  0.241935    0.0    1.0   0.0   0.0   \n",
            "2  0.791667  0.245283  0.235160  0.442748  0.419355    0.0    1.0   0.0   0.0   \n",
            "3  0.166667  0.339623  0.283105  0.885496  0.564516    0.0    1.0   0.0   0.0   \n",
            "4  0.250000  0.339623  0.178082  0.770992  0.225806    1.0    0.0   0.0   1.0   \n",
            "\n",
            "   cp_2  ...  slope_1  slope_2  ca_0  ca_1  ca_2  ca_3  thal_1  thal_2  \\\n",
            "0   0.0  ...      0.0      1.0   1.0   0.0   0.0   0.0     0.0     1.0   \n",
            "1   0.0  ...      1.0      0.0   0.0   0.0   0.0   1.0     1.0     0.0   \n",
            "2   0.0  ...      1.0      0.0   0.0   0.0   1.0   0.0     0.0     0.0   \n",
            "3   1.0  ...      0.0      1.0   1.0   0.0   0.0   0.0     1.0     0.0   \n",
            "4   0.0  ...      0.0      0.0   1.0   0.0   0.0   0.0     1.0     0.0   \n",
            "\n",
            "   thal_3  target  \n",
            "0     0.0       0  \n",
            "1     0.0       1  \n",
            "2     1.0       1  \n",
            "3     0.0       0  \n",
            "4     0.0       0  \n",
            "\n",
            "[5 rows x 29 columns]\n",
            "Shape of preprocessed dataset: (303, 29)\n"
          ]
        }
      ],
      "source": [
        "# Adding target column\n",
        "heart_preprocessed = pd.concat([X_processed_df, y.reset_index(drop=True)], axis=1)\n",
        "\n",
        "print(heart_preprocessed.head())\n",
        "\n",
        "print(\"Shape of preprocessed dataset:\", heart_preprocessed.shape)"
      ]
    },
    {
      "cell_type": "markdown",
      "metadata": {
        "id": "vvy6AVYB-ili"
      },
      "source": [
        "Splitting data into training and testing"
      ]
    },
    {
      "cell_type": "code",
      "execution_count": 139,
      "metadata": {
        "colab": {
          "base_uri": "https://localhost:8080/"
        },
        "id": "0ECJ7qx8-TGq",
        "outputId": "aed55e17-0b4d-4e30-d97e-b3276838978a"
      },
      "outputs": [
        {
          "name": "stdout",
          "output_type": "stream",
          "text": [
            "Training set shape: (242, 28)\n",
            "Testing set shape: (61, 28)\n"
          ]
        }
      ],
      "source": [
        "from sklearn.model_selection import train_test_split\n",
        "\n",
        "# Separating features and target\n",
        "X = heart_preprocessed.drop('target', axis=1)\n",
        "y = heart_preprocessed['target']\n",
        "# 80 20 split\n",
        "X_train, X_test, y_train, y_test = train_test_split(X, y, test_size=0.2, random_state=42, stratify=y)\n",
        "\n",
        "print(\"Training set shape:\", X_train.shape)\n",
        "print(\"Testing set shape:\", X_test.shape)\n"
      ]
    },
    {
      "cell_type": "markdown",
      "metadata": {
        "id": "pEu_F5K1-zvD"
      },
      "source": [
        "**Model Implementation**"
      ]
    },
    {
      "cell_type": "markdown",
      "metadata": {
        "id": "IrgwYRjICSU_"
      },
      "source": [
        "Logistic Regression"
      ]
    },
    {
      "cell_type": "code",
      "execution_count": null,
      "metadata": {
        "colab": {
          "base_uri": "https://localhost:8080/"
        },
        "id": "UE-joXMaCQqE",
        "outputId": "7b862ac7-0d81-4620-d29e-7362d2418b6f"
      },
      "outputs": [
        {
          "name": "stdout",
          "output_type": "stream",
          "text": [
            "Accuracy: 0.8852459016393442\n",
            "\n",
            "Error Rate: 0.11475409836065575\n",
            "\n",
            "Confusion Matrix:\n",
            " [[28  5]\n",
            " [ 2 26]]\n",
            "\n",
            "Classification Report:\n",
            "               precision    recall  f1-score   support\n",
            "\n",
            "           0       0.93      0.85      0.89        33\n",
            "           1       0.84      0.93      0.88        28\n",
            "\n",
            "    accuracy                           0.89        61\n",
            "   macro avg       0.89      0.89      0.89        61\n",
            "weighted avg       0.89      0.89      0.89        61\n",
            "\n"
          ]
        }
      ],
      "source": [
        "from sklearn.linear_model import LogisticRegression\n",
        "# Initializing model\n",
        "lr_model1 = LogisticRegression(max_iter=1000)\n",
        "\n",
        "lr_model1.fit(X_train, y_train)\n",
        "\n",
        "# Predict on test set\n",
        "y_pred_lr1 = lr_model1.predict(X_test)\n",
        "# acc_lr1 = accuracy_score(y_test, y_pred_lr1)\n",
        "# Evaluate performance\n",
        "print(\"Accuracy:\", accuracy_score(y_test, y_pred_lr1))\n",
        "print(\"\\nError Rate:\", 1-accuracy_score(y_test, y_pred_lr1))\n",
        "print(\"\\nConfusion Matrix:\\n\", confusion_matrix(y_test, y_pred_lr1))\n",
        "print(\"\\nClassification Report:\\n\", classification_report(y_test, y_pred_lr1))\n"
      ]
    },
    {
      "cell_type": "code",
      "execution_count": null,
      "metadata": {},
      "outputs": [
        {
          "name": "stderr",
          "output_type": "stream",
          "text": [
            "2025/05/26 02:06:16 WARNING mlflow.models.model: Model logged without a signature and input example. Please set `input_example` parameter when logging the model to auto infer the model signature.\n"
          ]
        },
        {
          "name": "stdout",
          "output_type": "stream",
          "text": [
            "\n",
            "Logistic Regression model has been logged to MLflow.\n",
            "🏃 View run Logistic Regression Classifier Heart at: http://127.0.0.1:5000/#/experiments/199802906115654468/runs/c20344bd68384c819fb5b8e75354a958\n",
            "🧪 View experiment at: http://127.0.0.1:5000/#/experiments/199802906115654468\n"
          ]
        }
      ],
      "source": [
        "import mlflow\n",
        "import mlflow.sklearn\n",
        "mlflow.set_tracking_uri(\"http://127.0.0.1:5000\")\n",
        "mlflow.set_experiment(\"Logistic Regression Single Model\")\n",
        "\n",
        "with mlflow.start_run(run_name=\"Logistic Regression Classifier Heart\"):\n",
        "\n",
        "    y_pred_lr1 = lr_model1.predict(X_test)\n",
        "\n",
        "    # Evaluation\n",
        "    accuracy = accuracy_score(y_test, y_pred_lr1)\n",
        "    error_rate = 1 - accuracy\n",
        "\n",
        "    # Log model parameters\n",
        "    mlflow.log_param(\"model\", \"LogisticRegression\")\n",
        "    mlflow.log_param(\"max_iter\", 1000)\n",
        "    mlflow.log_param(\"test_size\", 0.2)\n",
        "\n",
        "    # Log model performance metrics\n",
        "    mlflow.log_metric(\"accuracy\", accuracy)\n",
        "    mlflow.log_metric(\"error_rate\", error_rate)\n",
        "\n",
        "    # Log the model itself\n",
        "    mlflow.sklearn.log_model(lr_model1, \"Logistic_Regression_Model_Heart\")\n",
        "\n",
        "    print(\"\\nLogistic Regression model has been logged to MLflow.\")\n"
      ]
    },
    {
      "cell_type": "markdown",
      "metadata": {
        "id": "We3u10kBCucD"
      },
      "source": [
        "Decision Tree"
      ]
    },
    {
      "cell_type": "code",
      "execution_count": null,
      "metadata": {
        "colab": {
          "base_uri": "https://localhost:8080/"
        },
        "id": "t0h4eW3pCv-Q",
        "outputId": "1fa08662-122d-439b-956a-89847470375d"
      },
      "outputs": [
        {
          "name": "stdout",
          "output_type": "stream",
          "text": [
            "Decision Tree Accuracy: 0.7377049180327869\n",
            "\n",
            "Decision Tree Confusion Matrix:\n",
            " [[22 11]\n",
            " [ 5 23]]\n",
            "Error Rate: 0.2623\n",
            "\n",
            "Decision Tree Classification Report:\n",
            "               precision    recall  f1-score   support\n",
            "\n",
            "           0       0.81      0.67      0.73        33\n",
            "           1       0.68      0.82      0.74        28\n",
            "\n",
            "    accuracy                           0.74        61\n",
            "   macro avg       0.75      0.74      0.74        61\n",
            "weighted avg       0.75      0.74      0.74        61\n",
            "\n"
          ]
        }
      ],
      "source": [
        "from sklearn.tree import DecisionTreeClassifier\n",
        "\n",
        "dt_model1 = DecisionTreeClassifier(random_state=42)\n",
        "\n",
        "# Train the model\n",
        "dt_model1.fit(X_train, y_train)\n",
        "\n",
        "# Predict on test set\n",
        "y_pred_dt1 = dt_model1.predict(X_test)\n",
        "error_rate = 1-accuracy_score(y_test, y_pred_dt1)\n",
        "# Evaluate performance\n",
        "print(\"Decision Tree Accuracy:\", accuracy_score(y_test, y_pred_dt1))\n",
        "print(\"\\nDecision Tree Confusion Matrix:\\n\", confusion_matrix(y_test, y_pred_dt1))\n",
        "print(f\"Error Rate: {error_rate:.4f}\")\n",
        "print(\"\\nDecision Tree Classification Report:\\n\", classification_report(y_test, y_pred_dt1))\n"
      ]
    },
    {
      "cell_type": "code",
      "execution_count": 20,
      "metadata": {},
      "outputs": [
        {
          "name": "stderr",
          "output_type": "stream",
          "text": [
            "2025/05/26 02:07:13 WARNING mlflow.models.model: Model logged without a signature and input example. Please set `input_example` parameter when logging the model to auto infer the model signature.\n"
          ]
        },
        {
          "name": "stdout",
          "output_type": "stream",
          "text": [
            "\n",
            "Decision Tree model has been logged to MLflow.\n",
            "🏃 View run Decision Tree Classifier Heart at: http://127.0.0.1:5000/#/experiments/867504733373174529/runs/b45e31f9d31d4bbca471fa0fd913866e\n",
            "🧪 View experiment at: http://127.0.0.1:5000/#/experiments/867504733373174529\n"
          ]
        }
      ],
      "source": [
        "mlflow.set_tracking_uri(\"http://127.0.0.1:5000\")\n",
        "mlflow.set_experiment(\"Decision Tree Single Model\")\n",
        "\n",
        "with mlflow.start_run(run_name=\"Decision Tree Classifier Heart\"):\n",
        "\n",
        "    # Evaluation\n",
        "    accuracy = accuracy_score(y_test, y_pred_dt1)\n",
        "    error_rate = 1 - accuracy\n",
        "\n",
        "    # Log model parameters\n",
        "    mlflow.log_param(\"model\", \"DecisionTree\")\n",
        "    mlflow.log_param(\"random_state\", 42)\n",
        "    mlflow.log_param(\"test_size\", 0.2)\n",
        "\n",
        "    # Log model performance metrics\n",
        "    mlflow.log_metric(\"accuracy\", accuracy)\n",
        "    mlflow.log_metric(\"error_rate\", error_rate)\n",
        "\n",
        "    # Log the model itself\n",
        "    mlflow.sklearn.log_model(dt_model1, \"Decision_Tree_Model_Heart\")\n",
        "\n",
        "    print(\"\\nDecision Tree model has been logged to MLflow.\")"
      ]
    },
    {
      "cell_type": "markdown",
      "metadata": {
        "id": "8q6OjFiADuYs"
      },
      "source": [
        "Random Forest"
      ]
    },
    {
      "cell_type": "code",
      "execution_count": null,
      "metadata": {
        "colab": {
          "base_uri": "https://localhost:8080/"
        },
        "id": "y4xogGLFDv78",
        "outputId": "4896635a-495d-4a6a-9cc7-7ada3818a4f9"
      },
      "outputs": [
        {
          "name": "stdout",
          "output_type": "stream",
          "text": [
            "Random Forest Accuracy: 0.8688524590163934\n",
            "Error Rate: 0.1311\n",
            "\n",
            "Random Forest Confusion Matrix:\n",
            " [[27  6]\n",
            " [ 2 26]]\n",
            "\n",
            "Random Forest Classification Report:\n",
            "               precision    recall  f1-score   support\n",
            "\n",
            "           0       0.93      0.82      0.87        33\n",
            "           1       0.81      0.93      0.87        28\n",
            "\n",
            "    accuracy                           0.87        61\n",
            "   macro avg       0.87      0.87      0.87        61\n",
            "weighted avg       0.88      0.87      0.87        61\n",
            "\n"
          ]
        }
      ],
      "source": [
        "from sklearn.ensemble import RandomForestClassifier\n",
        "\n",
        "rf_model1 = RandomForestClassifier(n_estimators=100, random_state=42)\n",
        "\n",
        "# Training\n",
        "rf_model1.fit(X_train, y_train)\n",
        "\n",
        "# Predicting\n",
        "y_pred_rf1 = rf_model1.predict(X_test)\n",
        "error_rate = 1-accuracy_score(y_test, y_pred_rf1)\n",
        "# Evaluate performance\n",
        "print(\"Random Forest Accuracy:\", accuracy_score(y_test, y_pred_rf1))\n",
        "print(f\"Error Rate: {error_rate:.4f}\")\n",
        "print(\"\\nRandom Forest Confusion Matrix:\\n\", confusion_matrix(y_test, y_pred_rf1))\n",
        "print(\"\\nRandom Forest Classification Report:\\n\", classification_report(y_test, y_pred_rf1))\n"
      ]
    },
    {
      "cell_type": "code",
      "execution_count": 22,
      "metadata": {},
      "outputs": [
        {
          "name": "stderr",
          "output_type": "stream",
          "text": [
            "2025/05/26 02:08:30 INFO mlflow.tracking.fluent: Experiment with name 'Random Forest Single Model' does not exist. Creating a new experiment.\n",
            "2025/05/26 02:08:39 WARNING mlflow.models.model: Model logged without a signature and input example. Please set `input_example` parameter when logging the model to auto infer the model signature.\n"
          ]
        },
        {
          "name": "stdout",
          "output_type": "stream",
          "text": [
            "\n",
            "Random Forest model has been logged to MLflow.\n",
            "🏃 View run Random Forest Classifier Heart at: http://127.0.0.1:5000/#/experiments/271734259084106038/runs/97530d17a381419bb019170295d6e6f6\n",
            "🧪 View experiment at: http://127.0.0.1:5000/#/experiments/271734259084106038\n"
          ]
        }
      ],
      "source": [
        "mlflow.set_tracking_uri(\"http://127.0.0.1:5000\")\n",
        "mlflow.set_experiment(\"Random Forest Single Model\")\n",
        "\n",
        "with mlflow.start_run(run_name=\"Random Forest Classifier Heart\"):\n",
        "\n",
        "    accuracy = accuracy_score(y_test, y_pred_rf1)\n",
        "    error_rate = 1 - accuracy\n",
        "\n",
        "    mlflow.log_param(\"model\", \"RandomForest\")\n",
        "    mlflow.log_param(\"random_state\", 42)\n",
        "    mlflow.log_param(\"n_estimators\", rf_model1.n_estimators if hasattr(rf_model1, 'n_estimators') else None)\n",
        "    mlflow.log_param(\"test_size\", 0.2)\n",
        "\n",
        "    mlflow.log_metric(\"accuracy\", accuracy)\n",
        "    mlflow.log_metric(\"error_rate\", error_rate)\n",
        "\n",
        "    mlflow.sklearn.log_model(rf_model1, \"Random_Forest_Model_Heart\")\n",
        "\n",
        "    print(\"\\nRandom Forest model has been logged to MLflow.\")"
      ]
    },
    {
      "cell_type": "markdown",
      "metadata": {
        "id": "ZRH0LfOFKqo6"
      },
      "source": [
        "Naive Bayes"
      ]
    },
    {
      "cell_type": "code",
      "execution_count": null,
      "metadata": {
        "colab": {
          "base_uri": "https://localhost:8080/"
        },
        "id": "CNfeNSI9KsVX",
        "outputId": "6fcfe901-06c5-4021-885c-37d8aea30d6b"
      },
      "outputs": [
        {
          "name": "stdout",
          "output_type": "stream",
          "text": [
            "Naive Bayes Accuracy: 0.6721311475409836\n",
            "Error Rate: 0.3279\n",
            "\n",
            "Naive Bayes Confusion Matrix:\n",
            " [[16 17]\n",
            " [ 3 25]]\n",
            "\n",
            "Naive Bayes Classification Report:\n",
            "               precision    recall  f1-score   support\n",
            "\n",
            "           0       0.84      0.48      0.62        33\n",
            "           1       0.60      0.89      0.71        28\n",
            "\n",
            "    accuracy                           0.67        61\n",
            "   macro avg       0.72      0.69      0.66        61\n",
            "weighted avg       0.73      0.67      0.66        61\n",
            "\n"
          ]
        }
      ],
      "source": [
        "from sklearn.naive_bayes import GaussianNB\n",
        "\n",
        "nb_model1 = GaussianNB()\n",
        "\n",
        "# Training\n",
        "nb_model1.fit(X_train, y_train)\n",
        "\n",
        "# Predicting\n",
        "y_pred_nb1 = nb_model1.predict(X_test)\n",
        "error_rate = 1-accuracy_score(y_test, y_pred_nb1)\n",
        "# Evaluate performance\n",
        "print(\"Naive Bayes Accuracy:\", accuracy_score(y_test, y_pred_nb1))\n",
        "print(f\"Error Rate: {error_rate:.4f}\")\n",
        "print(\"\\nNaive Bayes Confusion Matrix:\\n\", confusion_matrix(y_test, y_pred_nb1))\n",
        "print(\"\\nNaive Bayes Classification Report:\\n\", classification_report(y_test, y_pred_nb1))\n"
      ]
    },
    {
      "cell_type": "code",
      "execution_count": 24,
      "metadata": {},
      "outputs": [
        {
          "name": "stderr",
          "output_type": "stream",
          "text": [
            "2025/05/26 02:10:16 INFO mlflow.tracking.fluent: Experiment with name 'Naive Bayes Single Model' does not exist. Creating a new experiment.\n",
            "2025/05/26 02:10:25 WARNING mlflow.models.model: Model logged without a signature and input example. Please set `input_example` parameter when logging the model to auto infer the model signature.\n"
          ]
        },
        {
          "name": "stdout",
          "output_type": "stream",
          "text": [
            "\n",
            "Naive Bayes model has been logged to MLflow.\n",
            "🏃 View run Naive Bayes Classifier Heart at: http://127.0.0.1:5000/#/experiments/785553476594201575/runs/2fdca1c5a1f2447785f4021441250ec5\n",
            "🧪 View experiment at: http://127.0.0.1:5000/#/experiments/785553476594201575\n"
          ]
        }
      ],
      "source": [
        "mlflow.set_tracking_uri(\"http://127.0.0.1:5000\")\n",
        "mlflow.set_experiment(\"Naive Bayes Single Model\")\n",
        "\n",
        "with mlflow.start_run(run_name=\"Naive Bayes Classifier Heart\"):\n",
        "\n",
        "    # Evaluation metrics\n",
        "    accuracy = accuracy_score(y_test, y_pred_nb1)\n",
        "    error_rate = 1 - accuracy\n",
        "\n",
        "    # Log model parameters\n",
        "    mlflow.log_param(\"model\", \"GaussianNB\")\n",
        "    mlflow.log_param(\"test_size\", 0.2)\n",
        "\n",
        "    # Log model performance metrics\n",
        "    mlflow.log_metric(\"accuracy\", accuracy)\n",
        "    mlflow.log_metric(\"error_rate\", error_rate)\n",
        "\n",
        "    # Log the model itself\n",
        "    mlflow.sklearn.log_model(nb_model1, \"Naive_Bayes_Model_Heart\")\n",
        "\n",
        "    print(\"\\nNaive Bayes model has been logged to MLflow.\")"
      ]
    },
    {
      "cell_type": "markdown",
      "metadata": {
        "id": "xexQNcDFKged"
      },
      "source": [
        "KNN"
      ]
    },
    {
      "cell_type": "code",
      "execution_count": null,
      "metadata": {
        "colab": {
          "base_uri": "https://localhost:8080/"
        },
        "id": "G4cy5AIwKhos",
        "outputId": "15188a77-8bd4-4769-b9b8-6f44137d7894"
      },
      "outputs": [
        {
          "name": "stdout",
          "output_type": "stream",
          "text": [
            "KNN Accuracy: 0.9016393442622951\n",
            "Error Rate: 0.0984\n",
            "\n",
            "KNN Confusion Matrix:\n",
            " [[28  5]\n",
            " [ 1 27]]\n",
            "\n",
            "KNN Classification Report:\n",
            "               precision    recall  f1-score   support\n",
            "\n",
            "           0       0.97      0.85      0.90        33\n",
            "           1       0.84      0.96      0.90        28\n",
            "\n",
            "    accuracy                           0.90        61\n",
            "   macro avg       0.90      0.91      0.90        61\n",
            "weighted avg       0.91      0.90      0.90        61\n",
            "\n"
          ]
        }
      ],
      "source": [
        "from sklearn.neighbors import KNeighborsClassifier\n",
        "\n",
        "knn_model1 = KNeighborsClassifier(n_neighbors=5)\n",
        "\n",
        "# Training\n",
        "knn_model1.fit(X_train, y_train)\n",
        "\n",
        "# Predicting\n",
        "y_pred_knn1 = knn_model1.predict(X_test)\n",
        "error_rate = 1-accuracy_score(y_test, y_pred_knn1)\n",
        "# Evaluate performance\n",
        "print(\"KNN Accuracy:\", accuracy_score(y_test, y_pred_knn1))\n",
        "print(f\"Error Rate: {error_rate:.4f}\")\n",
        "print(\"\\nKNN Confusion Matrix:\\n\", confusion_matrix(y_test, y_pred_knn1))\n",
        "print(\"\\nKNN Classification Report:\\n\", classification_report(y_test, y_pred_knn1))\n"
      ]
    },
    {
      "cell_type": "code",
      "execution_count": 26,
      "metadata": {},
      "outputs": [
        {
          "name": "stderr",
          "output_type": "stream",
          "text": [
            "2025/05/26 02:11:27 WARNING mlflow.models.model: Model logged without a signature and input example. Please set `input_example` parameter when logging the model to auto infer the model signature.\n"
          ]
        },
        {
          "name": "stdout",
          "output_type": "stream",
          "text": [
            "\n",
            "KNN model has been logged to MLflow.\n",
            "🏃 View run KNN Classifier Heart at: http://127.0.0.1:5000/#/experiments/943896704130806294/runs/c83eb332476948f0a0038c9fd5153dc2\n",
            "🧪 View experiment at: http://127.0.0.1:5000/#/experiments/943896704130806294\n"
          ]
        }
      ],
      "source": [
        "mlflow.set_tracking_uri(\"http://127.0.0.1:5000\")\n",
        "mlflow.set_experiment(\"KNN Single Model\")\n",
        "\n",
        "with mlflow.start_run(run_name=\"KNN Classifier Heart\"):\n",
        "\n",
        "    accuracy = accuracy_score(y_test, y_pred_knn1)\n",
        "    error_rate = 1 - accuracy\n",
        "\n",
        "    mlflow.log_param(\"model\", \"KNeighborsClassifier\")\n",
        "    mlflow.log_param(\"n_neighbors\", knn_model1.n_neighbors)\n",
        "    mlflow.log_param(\"test_size\", 0.2)\n",
        "\n",
        "    mlflow.log_metric(\"accuracy\", accuracy)\n",
        "    mlflow.log_metric(\"error_rate\", error_rate)\n",
        "\n",
        "    mlflow.sklearn.log_model(knn_model1, \"KNN_Model_Heart\")\n",
        "\n",
        "    print(\"\\nKNN model has been logged to MLflow.\")"
      ]
    },
    {
      "cell_type": "code",
      "execution_count": null,
      "metadata": {},
      "outputs": [],
      "source": []
    },
    {
      "cell_type": "markdown",
      "metadata": {
        "id": "lTPklZACD778"
      },
      "source": [
        "Support Vector Machine SVM"
      ]
    },
    {
      "cell_type": "code",
      "execution_count": null,
      "metadata": {
        "colab": {
          "base_uri": "https://localhost:8080/"
        },
        "id": "euvu6Pe9EAGp",
        "outputId": "5fcb708a-9dc6-4a2e-ff2c-c6ba0d89c886"
      },
      "outputs": [
        {
          "name": "stdout",
          "output_type": "stream",
          "text": [
            "SVM Accuracy: 0.8688524590163934\n",
            "Error Rate: 0.1311\n",
            "\n",
            "SVM Confusion Matrix:\n",
            " [[28  5]\n",
            " [ 3 25]]\n",
            "\n",
            "SVM Classification Report:\n",
            "               precision    recall  f1-score   support\n",
            "\n",
            "           0       0.90      0.85      0.88        33\n",
            "           1       0.83      0.89      0.86        28\n",
            "\n",
            "    accuracy                           0.87        61\n",
            "   macro avg       0.87      0.87      0.87        61\n",
            "weighted avg       0.87      0.87      0.87        61\n",
            "\n"
          ]
        }
      ],
      "source": [
        "from sklearn.svm import SVC\n",
        "\n",
        "svm_model1 = SVC(kernel='linear', random_state=42)\n",
        "\n",
        "# Training\n",
        "svm_model1.fit(X_train, y_train)\n",
        "\n",
        "# Predicting\n",
        "y_pred_svm1 = svm_model1.predict(X_test)\n",
        "error_rate = 1-accuracy_score(y_test, y_pred_svm1)\n",
        "# Evaluate performance\n",
        "print(\"SVM Accuracy:\", accuracy_score(y_test, y_pred_svm1))\n",
        "print(f\"Error Rate: {error_rate:.4f}\")\n",
        "\n",
        "print(\"\\nSVM Confusion Matrix:\\n\", confusion_matrix(y_test, y_pred_svm1))\n",
        "print(\"\\nSVM Classification Report:\\n\", classification_report(y_test, y_pred_svm1))\n"
      ]
    },
    {
      "cell_type": "code",
      "execution_count": 28,
      "metadata": {},
      "outputs": [
        {
          "name": "stderr",
          "output_type": "stream",
          "text": [
            "2025/05/26 02:12:11 INFO mlflow.tracking.fluent: Experiment with name 'SVM Single Model' does not exist. Creating a new experiment.\n",
            "2025/05/26 02:12:20 WARNING mlflow.models.model: Model logged without a signature and input example. Please set `input_example` parameter when logging the model to auto infer the model signature.\n"
          ]
        },
        {
          "name": "stdout",
          "output_type": "stream",
          "text": [
            "\n",
            "SVM model has been logged to MLflow.\n",
            "🏃 View run SVM Classifier Heart at: http://127.0.0.1:5000/#/experiments/668369975233403277/runs/1b47652c072e478586f4609687a1eff5\n",
            "🧪 View experiment at: http://127.0.0.1:5000/#/experiments/668369975233403277\n"
          ]
        }
      ],
      "source": [
        "import mlflow\n",
        "import mlflow.sklearn\n",
        "from sklearn.metrics import accuracy_score, f1_score\n",
        "\n",
        "mlflow.set_tracking_uri(\"http://127.0.0.1:5000\")\n",
        "mlflow.set_experiment(\"SVM Single Model\")\n",
        "\n",
        "with mlflow.start_run(run_name=\"SVM Classifier Heart\"):\n",
        "\n",
        "    accuracy = accuracy_score(y_test, y_pred_svm1)\n",
        "    error_rate = 1 - accuracy\n",
        "    f1 = f1_score(y_test, y_pred_svm1, average='macro')\n",
        "\n",
        "    mlflow.log_param(\"model\", \"SVC\")\n",
        "    mlflow.log_param(\"kernel\", svm_model1.kernel)\n",
        "    mlflow.log_param(\"random_state\", 42)\n",
        "    mlflow.log_param(\"test_size\", 0.2)\n",
        "\n",
        "    mlflow.log_metric(\"accuracy\", accuracy)\n",
        "    mlflow.log_metric(\"error_rate\", error_rate)\n",
        "    mlflow.log_metric(\"f1_score\", f1)\n",
        "\n",
        "    mlflow.sklearn.log_model(svm_model1, \"SVM_Model_Heart\")\n",
        "\n",
        "    print(\"\\nSVM model has been logged to MLflow.\")\n"
      ]
    },
    {
      "cell_type": "markdown",
      "metadata": {
        "id": "CHCM6FAc8UYo"
      },
      "source": [
        "NN"
      ]
    },
    {
      "cell_type": "code",
      "execution_count": null,
      "metadata": {
        "colab": {
          "base_uri": "https://localhost:8080/"
        },
        "id": "fTEBjT4k096O",
        "outputId": "0f64c94a-36ea-4813-b6b9-3b93d26ae1da"
      },
      "outputs": [
        {
          "name": "stdout",
          "output_type": "stream",
          "text": [
            "Neural Network Accuracy: 0.8689\n",
            "Error Rate: 0.1311\n",
            "\n",
            "Confusion Matrix:\n",
            " [[27  6]\n",
            " [ 2 26]]\n",
            "Classification Report               precision    recall  f1-score   support\n",
            "\n",
            "           0       0.93      0.82      0.87        33\n",
            "           1       0.81      0.93      0.87        28\n",
            "\n",
            "    accuracy                           0.87        61\n",
            "   macro avg       0.87      0.87      0.87        61\n",
            "weighted avg       0.88      0.87      0.87        61\n",
            "\n"
          ]
        },
        {
          "name": "stderr",
          "output_type": "stream",
          "text": [
            "e:\\python projects\\venv\\Lib\\site-packages\\sklearn\\neural_network\\_multilayer_perceptron.py:691: ConvergenceWarning: Stochastic Optimizer: Maximum iterations (1000) reached and the optimization hasn't converged yet.\n",
            "  warnings.warn(\n"
          ]
        }
      ],
      "source": [
        "from sklearn.neural_network import MLPClassifier\n",
        "\n",
        "nn_model1 = MLPClassifier(hidden_layer_sizes=(100,), max_iter=1000, random_state=42)\n",
        "nn_model1.fit(X_train, y_train)\n",
        "\n",
        "# Predicting\n",
        "y_pred_nn1 = nn_model1.predict(X_test)\n",
        "acc_nn = accuracy_score(y_test, y_pred_nn1)\n",
        "error_rate = 1-accuracy_score(y_test, y_pred_nn1)\n",
        "print(f\"Neural Network Accuracy: {acc_nn:.4f}\")\n",
        "print(f\"Error Rate: {error_rate:.4f}\")\n",
        "print(\"\\nConfusion Matrix:\\n\", confusion_matrix(y_test, y_pred_nn1))\n",
        "print(f\"Classification Report\", classification_report(y_test, y_pred_nn1))"
      ]
    },
    {
      "cell_type": "code",
      "execution_count": 30,
      "metadata": {},
      "outputs": [
        {
          "name": "stderr",
          "output_type": "stream",
          "text": [
            "2025/05/26 02:12:56 INFO mlflow.tracking.fluent: Experiment with name 'Neural Network Single Model' does not exist. Creating a new experiment.\n",
            "2025/05/26 02:13:06 WARNING mlflow.models.model: Model logged without a signature and input example. Please set `input_example` parameter when logging the model to auto infer the model signature.\n"
          ]
        },
        {
          "name": "stdout",
          "output_type": "stream",
          "text": [
            "\n",
            "Neural Network model has been logged to MLflow.\n",
            "🏃 View run Neural Network Classifier Heart at: http://127.0.0.1:5000/#/experiments/995027035523582845/runs/0f35abb1d29447deacdc7f24998ea682\n",
            "🧪 View experiment at: http://127.0.0.1:5000/#/experiments/995027035523582845\n"
          ]
        }
      ],
      "source": [
        "import mlflow\n",
        "import mlflow.sklearn\n",
        "from sklearn.metrics import accuracy_score, f1_score\n",
        "\n",
        "mlflow.set_tracking_uri(\"http://127.0.0.1:5000\")\n",
        "mlflow.set_experiment(\"Neural Network Single Model\")\n",
        "\n",
        "with mlflow.start_run(run_name=\"Neural Network Classifier Heart\"):\n",
        "\n",
        "    accuracy = accuracy_score(y_test, y_pred_nn1)\n",
        "    error_rate = 1 - accuracy\n",
        "    f1 = f1_score(y_test, y_pred_nn1, average='macro')\n",
        "\n",
        "    mlflow.log_param(\"model\", \"MLPClassifier\")\n",
        "    mlflow.log_param(\"hidden_layer_sizes\", (100,))\n",
        "    mlflow.log_param(\"max_iter\", 1000)\n",
        "    mlflow.log_param(\"random_state\", 42)\n",
        "    mlflow.log_param(\"test_size\", 0.2)\n",
        "\n",
        "    mlflow.log_metric(\"accuracy\", accuracy)\n",
        "    mlflow.log_metric(\"error_rate\", error_rate)\n",
        "    mlflow.log_metric(\"f1_score\", f1)\n",
        "\n",
        "    mlflow.sklearn.log_model(nn_model1, \"Neural_Network_Model_Heart\")\n",
        "\n",
        "    print(\"\\nNeural Network model has been logged to MLflow.\")\n"
      ]
    },
    {
      "cell_type": "markdown",
      "metadata": {
        "id": "fwfKGKaTMXtJ"
      },
      "source": [
        "Hybrid Model Code (NB + RF via Hard Voting):"
      ]
    },
    {
      "cell_type": "markdown",
      "metadata": {
        "id": "lgVTRS3zMmDB"
      },
      "source": [
        "# **Hybrid of RF and LR**"
      ]
    },
    {
      "cell_type": "code",
      "execution_count": null,
      "metadata": {},
      "outputs": [
        {
          "name": "stdout",
          "output_type": "stream",
          "text": [
            "Hybrid Model Accuracy: 0.8688524590163934\n",
            "Error Rate: 0.1311475409836066\n",
            "\n",
            "Hybrid Model Classification Report:\n",
            "               precision    recall  f1-score   support\n",
            "\n",
            "           0       0.90      0.85      0.88        33\n",
            "           1       0.83      0.89      0.86        28\n",
            "\n",
            "    accuracy                           0.87        61\n",
            "   macro avg       0.87      0.87      0.87        61\n",
            "weighted avg       0.87      0.87      0.87        61\n",
            "\n",
            "\n",
            "Hybrid Model Confusion Matrix:\n",
            " [[28  5]\n",
            " [ 3 25]]\n"
          ]
        }
      ],
      "source": [
        "from sklearn.ensemble import VotingClassifier\n",
        "\n",
        "# Creating VotingClassifier \n",
        "voting_clf = VotingClassifier(\n",
        "    estimators=[('rf', rf_model1), ('lr', lr_model1)],\n",
        "    voting='hard'  # majority voting\n",
        ")\n",
        "\n",
        "# Training\n",
        "voting_clf.fit(X_train, y_train)\n",
        "\n",
        "# Predicting on test set\n",
        "final_pred = voting_clf.predict(X_test)\n",
        "\n",
        "# Evaluate\n",
        "from sklearn.metrics import accuracy_score, classification_report, confusion_matrix\n",
        "\n",
        "print(\"Hybrid Model Accuracy:\", accuracy_score(y_test, final_pred))\n",
        "print(\"Error Rate:\", 1 - accuracy_score(y_test, final_pred))\n",
        "print(\"\\nHybrid Model Classification Report:\\n\", classification_report(y_test, final_pred))\n",
        "print(\"\\nHybrid Model Confusion Matrix:\\n\", confusion_matrix(y_test, final_pred))\n"
      ]
    },
    {
      "cell_type": "code",
      "execution_count": null,
      "metadata": {},
      "outputs": [
        {
          "name": "stderr",
          "output_type": "stream",
          "text": [
            "2025/05/26 02:15:49 INFO mlflow.tracking.fluent: Experiment with name 'Hybrid Voting Classifier 1st' does not exist. Creating a new experiment.\n",
            "2025/05/26 02:15:58 WARNING mlflow.models.model: Model logged without a signature and input example. Please set `input_example` parameter when logging the model to auto infer the model signature.\n"
          ]
        },
        {
          "name": "stdout",
          "output_type": "stream",
          "text": [
            "\n",
            "Voting Classifier model has been logged to MLflow.\n",
            "🏃 View run Voting Classifier RF + LR 1st at: http://127.0.0.1:5000/#/experiments/722502161955321991/runs/e4cc01aa9ed64f8cb36c07a1b4d1a021\n",
            "🧪 View experiment at: http://127.0.0.1:5000/#/experiments/722502161955321991\n"
          ]
        }
      ],
      "source": [
        "mlflow.set_tracking_uri(\"http://127.0.0.1:5000\")\n",
        "mlflow.set_experiment(\"Hybrid Voting Classifier 1st\")\n",
        "\n",
        "with mlflow.start_run(run_name=\"Voting Classifier RF + LR 1st\"):\n",
        "\n",
        "    voting_clf.fit(X_train, y_train)\n",
        "\n",
        "    final_pred = voting_clf.predict(X_test)\n",
        "\n",
        "    # Evaluate\n",
        "    accuracy = accuracy_score(y_test, final_pred)\n",
        "    error_rate = 1 - accuracy\n",
        "\n",
        "    # Log parameters\n",
        "    mlflow.log_param(\"model\", \"VotingClassifier\")\n",
        "    mlflow.log_param(\"voting_type\", \"hard\")\n",
        "    mlflow.log_param(\"estimators\", \"RandomForest + LogisticRegression\")\n",
        "    mlflow.log_param(\"test_size\", 0.2)\n",
        "\n",
        "    # Log metrics\n",
        "    mlflow.log_metric(\"accuracy\", accuracy)\n",
        "    mlflow.log_metric(\"error_rate\", error_rate)\n",
        "\n",
        "    # Log the model itself\n",
        "    mlflow.sklearn.log_model(voting_clf, \"Voting_Classifier_Model\")\n",
        "\n",
        "    print(\"\\nVoting Classifier model has been logged to MLflow.\")"
      ]
    },
    {
      "cell_type": "markdown",
      "metadata": {
        "id": "Wv0zubHLNlxl"
      },
      "source": [
        "Hybrid RF and SVM"
      ]
    },
    {
      "cell_type": "code",
      "execution_count": null,
      "metadata": {
        "colab": {
          "base_uri": "https://localhost:8080/"
        },
        "id": "0Dv3EWiCNoFB",
        "outputId": "e99895f5-5871-4501-ea2d-71620a2b435c"
      },
      "outputs": [
        {
          "name": "stdout",
          "output_type": "stream",
          "text": [
            "Hybrid (Linear SVM + RF) Accuracy: 0.8688524590163934\n",
            "\n",
            "Hybrid Classification Report:\n",
            "               precision    recall  f1-score   support\n",
            "\n",
            "           0       0.93      0.82      0.87        33\n",
            "           1       0.81      0.93      0.87        28\n",
            "\n",
            "    accuracy                           0.87        61\n",
            "   macro avg       0.87      0.87      0.87        61\n",
            "weighted avg       0.88      0.87      0.87        61\n",
            "\n",
            "\n",
            "Hybrid Confusion Matrix:\n",
            " [[27  6]\n",
            " [ 2 26]]\n"
          ]
        }
      ],
      "source": [
        "from sklearn.svm import SVC\n",
        "from sklearn.ensemble import RandomForestClassifier\n",
        "from sklearn.ensemble import VotingClassifier\n",
        "from sklearn.metrics import accuracy_score, classification_report, confusion_matrix\n",
        "\n",
        "svm_linear = SVC(kernel='linear', probability=True, random_state=42)\n",
        "rf = RandomForestClassifier(random_state=42)\n",
        "\n",
        "# Create a Voting Classifier \n",
        "hybrid_model = VotingClassifier(\n",
        "    estimators=[('svm', svm_linear), ('rf', rf)],\n",
        "    voting='soft'  #for probabilities\n",
        ")\n",
        "\n",
        "# Training\n",
        "hybrid_model.fit(X_train, y_train)\n",
        "\n",
        "# Predicting\n",
        "y_pred_hybrid = hybrid_model.predict(X_test)\n",
        "\n",
        "# Evaluate\n",
        "print(\"Hybrid (Linear SVM + RF) Accuracy:\", accuracy_score(y_test, y_pred_hybrid))\n",
        "print(\"\\nHybrid Classification Report:\\n\", classification_report(y_test, y_pred_hybrid))\n",
        "print(\"\\nHybrid Confusion Matrix:\\n\", confusion_matrix(y_test, y_pred_hybrid))\n"
      ]
    },
    {
      "cell_type": "code",
      "execution_count": null,
      "metadata": {},
      "outputs": [
        {
          "name": "stderr",
          "output_type": "stream",
          "text": [
            "2025/05/26 02:18:09 INFO mlflow.tracking.fluent: Experiment with name 'Hybrid Soft Voting Classifier_1st' does not exist. Creating a new experiment.\n",
            "2025/05/26 02:18:19 WARNING mlflow.models.model: Model logged without a signature and input example. Please set `input_example` parameter when logging the model to auto infer the model signature.\n"
          ]
        },
        {
          "name": "stdout",
          "output_type": "stream",
          "text": [
            "\n",
            "Hybrid Soft Voting model has been logged to MLflow.\n",
            "🏃 View run Hybrid_SVM_RF_SoftVoting_!st at: http://127.0.0.1:5000/#/experiments/347322878557177538/runs/1543a57d7a9947168e1dd84a2013ac65\n",
            "🧪 View experiment at: http://127.0.0.1:5000/#/experiments/347322878557177538\n"
          ]
        }
      ],
      "source": [
        "mlflow.set_tracking_uri(\"http://127.0.0.1:5000\")\n",
        "mlflow.set_experiment(\"Hybrid Soft Voting Classifier_1st\")\n",
        "\n",
        "with mlflow.start_run(run_name=\"Hybrid_SVM_RF_SoftVoting_!st\"):\n",
        "\n",
        "    hybrid_model.fit(X_train, y_train)\n",
        "\n",
        "    y_pred_hybrid = hybrid_model.predict(X_test)\n",
        "\n",
        "    accuracy = accuracy_score(y_test, y_pred_hybrid)\n",
        "    error_rate = 1 - accuracy\n",
        "\n",
        "    # Log model parameters\n",
        "    mlflow.log_param(\"model\", \"VotingClassifier\")\n",
        "    mlflow.log_param(\"voting_type\", \"soft\")\n",
        "    mlflow.log_param(\"estimators\", \"SVM (linear) + RandomForest\")\n",
        "    mlflow.log_param(\"test_size\", 0.2)\n",
        "\n",
        "    # Log metrics\n",
        "    mlflow.log_metric(\"accuracy\", accuracy)\n",
        "    mlflow.log_metric(\"error_rate\", error_rate)\n",
        "\n",
        "    # Log the model\n",
        "    mlflow.sklearn.log_model(hybrid_model, \"Hybrid_SVM_RF_SoftVoting_Model_1st\")\n",
        "\n",
        "    print(\"\\nHybrid Soft Voting model has been logged to MLflow.\")"
      ]
    },
    {
      "cell_type": "code",
      "execution_count": 111,
      "metadata": {},
      "outputs": [
        {
          "data": {
            "image/png": "[encoded data removed]",
            "text/plain": [
              "<IPython.core.display.Image object>"
            ]
          },
          "execution_count": 111,
          "metadata": {},
          "output_type": "execute_result"
        }
      ],
      "source": [
        "from IPython.display import Image\n",
        "\n",
        "bef_feature = \"E:/python projects/assigment1 PAI ss/Heart/models_bef_feature_sel.png\"\n",
        "Image(filename=bef_feature)"
      ]
    },
    {
      "cell_type": "markdown",
      "metadata": {
        "id": "wmzzS3PwP3t_"
      },
      "source": [
        "**AFTER FEATURE SELECTION**"
      ]
    },
    {
      "cell_type": "code",
      "execution_count": 158,
      "metadata": {
        "id": "pQa1keN5S_sJ"
      },
      "outputs": [],
      "source": []
    },
    {
      "cell_type": "markdown",
      "metadata": {
        "id": "sWll_yqVUmrL"
      },
      "source": [
        "Feature selection with dt entropy"
      ]
    },
    {
      "cell_type": "code",
      "execution_count": 159,
      "metadata": {
        "colab": {
          "base_uri": "https://localhost:8080/"
        },
        "id": "LVoOB1UfUpl9",
        "outputId": "d0a9c5d7-685b-4605-d215-7ef27cd6b23f"
      },
      "outputs": [
        {
          "name": "stdout",
          "output_type": "stream",
          "text": [
            "      Feature  Importance\n",
            "25     thal_1    0.205675\n",
            "0         age    0.170230\n",
            "3     thalach    0.150433\n",
            "10       cp_3    0.110889\n",
            "21       ca_0    0.096985\n",
            "4     oldpeak    0.075074\n",
            "2        chol    0.061155\n",
            "5       sex_0    0.020553\n",
            "13  restecg_0    0.020231\n",
            "9        cp_2    0.019138\n",
            "26     thal_2    0.018218\n",
            "22       ca_1    0.016187\n",
            "11      fbs_0    0.013674\n",
            "1    trestbps    0.012606\n",
            "6       sex_1    0.008952\n",
            "7        cp_0    0.000000\n",
            "8        cp_1    0.000000\n",
            "12      fbs_1    0.000000\n",
            "14  restecg_1    0.000000\n",
            "15  restecg_2    0.000000\n",
            "19    slope_1    0.000000\n",
            "18    slope_0    0.000000\n",
            "17    exang_1    0.000000\n",
            "16    exang_0    0.000000\n",
            "23       ca_2    0.000000\n",
            "20    slope_2    0.000000\n",
            "24       ca_3    0.000000\n",
            "27     thal_3    0.000000\n",
            "\n",
            "Top 10 features based on Decision Tree entropy:\n",
            "['thal_1', 'age', 'thalach', 'cp_3', 'ca_0', 'oldpeak', 'chol', 'sex_0', 'restecg_0', 'cp_2']\n"
          ]
        }
      ],
      "source": [
        "from sklearn.tree import DecisionTreeClassifier\n",
        "\n",
        "# Separating features and target from preprocessed DataFrame\n",
        "X = heart_preprocessed.drop('target', axis=1)\n",
        "y = heart_preprocessed['target']\n",
        "\n",
        "# Initialize and fit Decision Tree classifier with entropy criterion\n",
        "dt = DecisionTreeClassifier(criterion='entropy', random_state=42)\n",
        "dt.fit(X, y)\n",
        "\n",
        "# Getting feature importances\n",
        "feature_importances = dt.feature_importances_\n",
        "\n",
        "# Creating a DataFrame for feature importance\n",
        "feat_imp_df = pd.DataFrame({\n",
        "    'Feature': X.columns,\n",
        "    'Importance': feature_importances\n",
        "}).sort_values(by='Importance', ascending=False)\n",
        "\n",
        "print(feat_imp_df)\n",
        "\n",
        "# Selecting top 10 Features \n",
        "top_features = feat_imp_df['Feature'].head(10).tolist()\n",
        "print(\"\\nTop 10 features based on Decision Tree entropy:\")\n",
        "print(top_features)\n",
        "\n",
        "# features selected for training\n",
        "X_selected = X[top_features]\n"
      ]
    },
    {
      "cell_type": "markdown",
      "metadata": {
        "id": "xYxvhQgiZQsh"
      },
      "source": [
        "Train Test Split"
      ]
    },
    {
      "cell_type": "code",
      "execution_count": 160,
      "metadata": {
        "id": "wgkzxI7DZP5u"
      },
      "outputs": [],
      "source": [
        "from sklearn.model_selection import train_test_split\n",
        "X_final = X[top_features]\n",
        "y_final = y\n",
        "\n",
        "X_train, X_test, y_train, y_test = train_test_split(X_final, y_final, test_size=0.2, random_state=42)\n"
      ]
    },
    {
      "cell_type": "markdown",
      "metadata": {
        "id": "eKfsJ6rXZXlD"
      },
      "source": [
        "Naive Bayes"
      ]
    },
    {
      "cell_type": "code",
      "execution_count": 162,
      "metadata": {
        "colab": {
          "base_uri": "https://localhost:8080/"
        },
        "id": "X9nA2s91ZYzW",
        "outputId": "611bf628-a0f1-4376-d30e-3e543726c028"
      },
      "outputs": [
        {
          "name": "stdout",
          "output_type": "stream",
          "text": [
            "Naive Bayes Accuracy: 0.8852\n",
            "\n",
            "Error Rate: 0.1148\n",
            "\n",
            "Confusion Matrix:\n",
            " [[26  3]\n",
            " [ 4 28]]\n",
            "\n",
            "Classification Report:\n",
            "               precision    recall  f1-score   support\n",
            "\n",
            "           0       0.87      0.90      0.88        29\n",
            "           1       0.90      0.88      0.89        32\n",
            "\n",
            "    accuracy                           0.89        61\n",
            "   macro avg       0.88      0.89      0.89        61\n",
            "weighted avg       0.89      0.89      0.89        61\n",
            "\n"
          ]
        }
      ],
      "source": [
        "from sklearn.naive_bayes import GaussianNB\n",
        "from sklearn.metrics import accuracy_score\n",
        "\n",
        "nb_model = GaussianNB()\n",
        "nb_model.fit(X_train, y_train)\n",
        "y_pred_nb = nb_model.predict(X_test)\n",
        "acc_nb = accuracy_score(y_test, y_pred_nb)\n",
        "f1_nb = f1_score(y_test, y_pred_nb)\n",
        "error_rate = 1 - acc_nb\n",
        "print(f\"Naive Bayes Accuracy: {acc_nb:.4f}\")\n",
        "print(f\"\\nError Rate: {error_rate:.4f}\")\n",
        "\n",
        "print(\"\\nConfusion Matrix:\\n\", confusion_matrix(y_test, y_pred_nb))\n",
        "print(\"\\nClassification Report:\\n\", classification_report(y_test, y_pred_nb))\n"
      ]
    },
    {
      "cell_type": "code",
      "execution_count": 43,
      "metadata": {},
      "outputs": [
        {
          "name": "stderr",
          "output_type": "stream",
          "text": [
            "2025/05/26 02:23:07 INFO mlflow.tracking.fluent: Experiment with name 'Naive Bayes Experiment_Heart' does not exist. Creating a new experiment.\n",
            "2025/05/26 02:23:16 WARNING mlflow.models.model: Model logged without a signature and input example. Please set `input_example` parameter when logging the model to auto infer the model signature.\n"
          ]
        },
        {
          "name": "stdout",
          "output_type": "stream",
          "text": [
            "\n",
            "Naive Bayes model logged to MLflow.\n",
            "🏃 View run Naive Bayes Classifier_Heart at: http://127.0.0.1:5000/#/experiments/958028450246571312/runs/3e8a00124ef3440fa01fcea29b7bc7e1\n",
            "🧪 View experiment at: http://127.0.0.1:5000/#/experiments/958028450246571312\n"
          ]
        }
      ],
      "source": [
        "mlflow.set_tracking_uri(\"http://127.0.0.1:5000\")\n",
        "mlflow.set_experiment(\"Naive Bayes Experiment_Heart\")\n",
        "\n",
        "with mlflow.start_run(run_name=\"Naive Bayes Classifier_Heart\"):\n",
        "\n",
        "    # Log parameters\n",
        "    mlflow.log_param(\"model\", \"GaussianNB\")\n",
        "\n",
        "    # Log metrics (assuming these are already computed)\n",
        "    mlflow.log_metric(\"accuracy\", acc_nb)\n",
        "    mlflow.log_metric(\"f1_score\", f1_nb)\n",
        "    mlflow.log_metric(\"error_rate\", error_rate)\n",
        "\n",
        "    # Log the model (already trained model object)\n",
        "    mlflow.sklearn.log_model(nb_model, \"Naive_Bayes_Model_Heart\")\n",
        "\n",
        "    print(\"\\nNaive Bayes model logged to MLflow.\")"
      ]
    },
    {
      "cell_type": "markdown",
      "metadata": {
        "id": "dzVF2PCNZvLL"
      },
      "source": [
        "SVM"
      ]
    },
    {
      "cell_type": "code",
      "execution_count": 163,
      "metadata": {
        "colab": {
          "base_uri": "https://localhost:8080/"
        },
        "id": "R4rHSlWUZwGw",
        "outputId": "5cd22061-750f-40a2-c19d-221dc19e198e"
      },
      "outputs": [
        {
          "name": "stdout",
          "output_type": "stream",
          "text": [
            "SVM (Linear) Accuracy: 0.9016\n",
            "Error Rate: 0.0984\n",
            "\n",
            "Confusion Matrix:\n",
            " [[26  3]\n",
            " [ 3 29]]\n",
            "\n",
            "Classification Report:\n",
            "               precision    recall  f1-score   support\n",
            "\n",
            "           0       0.90      0.90      0.90        29\n",
            "           1       0.91      0.91      0.91        32\n",
            "\n",
            "    accuracy                           0.90        61\n",
            "   macro avg       0.90      0.90      0.90        61\n",
            "weighted avg       0.90      0.90      0.90        61\n",
            "\n"
          ]
        }
      ],
      "source": [
        "from sklearn.svm import SVC\n",
        "\n",
        "svm_model = SVC(kernel='linear', probability=True, random_state=42)\n",
        "svm_model.fit(X_train, y_train)\n",
        "y_pred_svm = svm_model.predict(X_test)\n",
        "acc_svm = accuracy_score(y_test, y_pred_svm)\n",
        "f1_svm = f1_score(y_test, y_pred_svm)\n",
        "error_rate = 1 - acc_svm\n",
        "print(f\"SVM (Linear) Accuracy: {acc_svm:.4f}\")\n",
        "print(f\"Error Rate: {error_rate:.4f}\")\n",
        "print(\"\\nConfusion Matrix:\\n\", confusion_matrix(y_test, y_pred_svm))\n",
        "print(\"\\nClassification Report:\\n\", classification_report(y_test, y_pred_svm))\n"
      ]
    },
    {
      "cell_type": "code",
      "execution_count": 45,
      "metadata": {},
      "outputs": [
        {
          "name": "stderr",
          "output_type": "stream",
          "text": [
            "2025/05/26 02:24:17 INFO mlflow.tracking.fluent: Experiment with name 'SVM Linear Experiment_Heart' does not exist. Creating a new experiment.\n",
            "2025/05/26 02:24:26 WARNING mlflow.models.model: Model logged without a signature and input example. Please set `input_example` parameter when logging the model to auto infer the model signature.\n"
          ]
        },
        {
          "name": "stdout",
          "output_type": "stream",
          "text": [
            "\n",
            "SVM Linear model logged to MLflow.\n",
            "🏃 View run SVM Linear Classifier_Heart at: http://127.0.0.1:5000/#/experiments/123524750798686228/runs/1fada1d0ee3c4b87a5cd60a622547c95\n",
            "🧪 View experiment at: http://127.0.0.1:5000/#/experiments/123524750798686228\n"
          ]
        }
      ],
      "source": [
        "mlflow.set_tracking_uri(\"http://127.0.0.1:5000\")\n",
        "mlflow.set_experiment(\"SVM Linear Experiment_Heart\")\n",
        "\n",
        "with mlflow.start_run(run_name=\"SVM Linear Classifier_Heart\"):\n",
        "\n",
        "    # Log parameters\n",
        "    mlflow.log_param(\"model\", \"SVC\")\n",
        "    mlflow.log_param(\"kernel\", \"linear\")\n",
        "\n",
        "    # Log metrics\n",
        "    mlflow.log_metric(\"accuracy\", acc_svm)\n",
        "    mlflow.log_metric(\"f1_score\", f1_svm)\n",
        "    mlflow.log_metric(\"error_rate\", error_rate)\n",
        "\n",
        "    # Log the model\n",
        "    mlflow.sklearn.log_model(svm_model, \"SVM_Linear_Model_Heart\")\n",
        "\n",
        "    print(\"\\nSVM Linear model logged to MLflow.\")"
      ]
    },
    {
      "cell_type": "markdown",
      "metadata": {
        "id": "R-_3AG64Z10E"
      },
      "source": [
        "Random Forest"
      ]
    },
    {
      "cell_type": "code",
      "execution_count": 164,
      "metadata": {
        "colab": {
          "base_uri": "https://localhost:8080/"
        },
        "id": "WX5rtOziZ3Fo",
        "outputId": "cd6f27ec-9346-4566-806d-0c822243fdae"
      },
      "outputs": [
        {
          "name": "stdout",
          "output_type": "stream",
          "text": [
            "Random Forest Accuracy: 0.9180\n",
            "Random Forest F!: 0.9180\n",
            "Error Rate: 0.0820\n",
            "\n",
            "Confusion Matrix:\n",
            " [[28  1]\n",
            " [ 4 28]]\n",
            "Classification Report               precision    recall  f1-score   support\n",
            "\n",
            "           0       0.88      0.97      0.92        29\n",
            "           1       0.97      0.88      0.92        32\n",
            "\n",
            "    accuracy                           0.92        61\n",
            "   macro avg       0.92      0.92      0.92        61\n",
            "weighted avg       0.92      0.92      0.92        61\n",
            "\n"
          ]
        }
      ],
      "source": [
        "from sklearn.ensemble import RandomForestClassifier\n",
        "\n",
        "rf_model = RandomForestClassifier(random_state=42)\n",
        "rf_model.fit(X_train, y_train)\n",
        "y_pred_rf = rf_model.predict(X_test)\n",
        "acc_rf = accuracy_score(y_test, y_pred_rf)\n",
        "f1_rf = f1_score(y_test, y_pred_rf)\n",
        "error_rate = 1 - acc_rf\n",
        "print(f\"Random Forest Accuracy: {acc_rf:.4f}\")\n",
        "print(f\"Random Forest F!: {f1_rf:.4f}\")\n",
        "print(f\"Error Rate: {error_rate:.4f}\")\n",
        "print(\"\\nConfusion Matrix:\\n\", confusion_matrix(y_test, y_pred_rf))\n",
        "print(f\"Classification Report\", classification_report(y_test, y_pred_rf))"
      ]
    },
    {
      "cell_type": "code",
      "execution_count": 47,
      "metadata": {},
      "outputs": [
        {
          "name": "stderr",
          "output_type": "stream",
          "text": [
            "2025/05/26 02:25:43 INFO mlflow.tracking.fluent: Experiment with name 'Random Forest Experiment_Heart' does not exist. Creating a new experiment.\n",
            "2025/05/26 02:25:52 WARNING mlflow.models.model: Model logged without a signature and input example. Please set `input_example` parameter when logging the model to auto infer the model signature.\n"
          ]
        },
        {
          "name": "stdout",
          "output_type": "stream",
          "text": [
            "\n",
            "Random Forest model logged to MLflow.\n",
            "🏃 View run Random Forest Classifier_Heart at: http://127.0.0.1:5000/#/experiments/120836156212340478/runs/d8f8abc67d394a43bad645dd4f0e76cd\n",
            "🧪 View experiment at: http://127.0.0.1:5000/#/experiments/120836156212340478\n"
          ]
        }
      ],
      "source": [
        "mlflow.set_tracking_uri(\"http://127.0.0.1:5000\")\n",
        "mlflow.set_experiment(\"Random Forest Experiment_Heart\")\n",
        "\n",
        "with mlflow.start_run(run_name=\"Random Forest Classifier_Heart\"):\n",
        "\n",
        "    # Log parameters\n",
        "    mlflow.log_param(\"model\", \"RandomForestClassifier\")\n",
        "    mlflow.log_param(\"random_state\", 42)\n",
        "\n",
        "    # Log metrics\n",
        "    mlflow.log_metric(\"accuracy\", acc_rf)\n",
        "    mlflow.log_metric(\"f1_score\", f1_rf)\n",
        "    mlflow.log_metric(\"error_rate\", error_rate)\n",
        "\n",
        "    # Log the model\n",
        "    mlflow.sklearn.log_model(rf_model, \"Random_Forest_Model_Heart\")\n",
        "\n",
        "    print(\"\\nRandom Forest model logged to MLflow.\")"
      ]
    },
    {
      "cell_type": "markdown",
      "metadata": {
        "id": "IOUyVrNQZ_p-"
      },
      "source": [
        "Logistic Regression"
      ]
    },
    {
      "cell_type": "code",
      "execution_count": 165,
      "metadata": {
        "colab": {
          "base_uri": "https://localhost:8080/"
        },
        "id": "RVe_xN-maC0M",
        "outputId": "8e0bcee0-30c4-40dd-bac3-718ad0d57c6a"
      },
      "outputs": [
        {
          "name": "stdout",
          "output_type": "stream",
          "text": [
            "Logistic Regression Accuracy: 0.8852\n",
            "Error Rate: 0.1148\n",
            "\n",
            "Confusion Matrix:\n",
            " [[26  3]\n",
            " [ 4 28]]\n",
            "Classification Report               precision    recall  f1-score   support\n",
            "\n",
            "           0       0.87      0.90      0.88        29\n",
            "           1       0.90      0.88      0.89        32\n",
            "\n",
            "    accuracy                           0.89        61\n",
            "   macro avg       0.88      0.89      0.89        61\n",
            "weighted avg       0.89      0.89      0.89        61\n",
            "\n"
          ]
        }
      ],
      "source": [
        "from sklearn.linear_model import LogisticRegression\n",
        "\n",
        "lr_model = LogisticRegression(max_iter=1000, random_state=42)\n",
        "lr_model.fit(X_train, y_train)\n",
        "y_pred_lr = lr_model.predict(X_test)\n",
        "acc_lr = accuracy_score(y_test, y_pred_lr)\n",
        "f1_lr = f1_score(y_test, y_pred_lr)\n",
        "error_rate = 1 - acc_lr\n",
        "print(f\"Logistic Regression Accuracy: {acc_lr:.4f}\")\n",
        "print(f\"Error Rate: {error_rate:.4f}\")\n",
        "print(\"\\nConfusion Matrix:\\n\", confusion_matrix(y_test, y_pred_lr))\n",
        "print(f\"Classification Report\", classification_report(y_test, y_pred_lr))"
      ]
    },
    {
      "cell_type": "code",
      "execution_count": 49,
      "metadata": {},
      "outputs": [
        {
          "name": "stderr",
          "output_type": "stream",
          "text": [
            "2025/05/26 02:26:58 INFO mlflow.tracking.fluent: Experiment with name 'Logistic Regression Experiment_Heart' does not exist. Creating a new experiment.\n",
            "2025/05/26 02:27:08 WARNING mlflow.models.model: Model logged without a signature and input example. Please set `input_example` parameter when logging the model to auto infer the model signature.\n"
          ]
        },
        {
          "name": "stdout",
          "output_type": "stream",
          "text": [
            "\n",
            "Logistic Regression model logged to MLflow.\n",
            "🏃 View run Logistic Regression Classifier_Heart at: http://127.0.0.1:5000/#/experiments/294770337650369282/runs/cd9578c1ccff4820b362be137e7e7b37\n",
            "🧪 View experiment at: http://127.0.0.1:5000/#/experiments/294770337650369282\n"
          ]
        }
      ],
      "source": [
        "import mlflow\n",
        "import mlflow.sklearn\n",
        "\n",
        "mlflow.set_tracking_uri(\"http://127.0.0.1:5000\")\n",
        "mlflow.set_experiment(\"Logistic Regression Experiment_Heart\")\n",
        "\n",
        "with mlflow.start_run(run_name=\"Logistic Regression Classifier_Heart\"):\n",
        "\n",
        "    # Log parameters\n",
        "    mlflow.log_param(\"model\", \"LogisticRegression\")\n",
        "    mlflow.log_param(\"max_iter\", 1000)\n",
        "    mlflow.log_param(\"random_state\", 42)\n",
        "\n",
        "    # Log metrics\n",
        "    mlflow.log_metric(\"accuracy\", acc_lr)\n",
        "    mlflow.log_metric(\"f1_score\", f1_lr)\n",
        "    mlflow.log_metric(\"error_rate\", error_rate)\n",
        "\n",
        "    # Log the model\n",
        "    mlflow.sklearn.log_model(lr_model, \"Logistic_Regression_Model_Heart\")\n",
        "\n",
        "    print(\"\\nLogistic Regression model logged to MLflow.\")\n"
      ]
    },
    {
      "cell_type": "markdown",
      "metadata": {
        "id": "sAH4eRBavMAL"
      },
      "source": []
    },
    {
      "cell_type": "markdown",
      "metadata": {
        "id": "Yd8SoeMfaKxD"
      },
      "source": [
        "Decision Tree"
      ]
    },
    {
      "cell_type": "code",
      "execution_count": 166,
      "metadata": {
        "colab": {
          "base_uri": "https://localhost:8080/"
        },
        "id": "TKGgvfivaMOT",
        "outputId": "25fdb801-8fff-4d2a-aba6-1584c0e92f1a"
      },
      "outputs": [
        {
          "name": "stdout",
          "output_type": "stream",
          "text": [
            "Decision Tree Accuracy: 0.8197\n",
            "Error Rate: 0.1803\n",
            "\n",
            "Confusion Matrix:\n",
            " [[25  4]\n",
            " [ 7 25]]\n",
            "Classification Report               precision    recall  f1-score   support\n",
            "\n",
            "           0       0.78      0.86      0.82        29\n",
            "           1       0.86      0.78      0.82        32\n",
            "\n",
            "    accuracy                           0.82        61\n",
            "   macro avg       0.82      0.82      0.82        61\n",
            "weighted avg       0.82      0.82      0.82        61\n",
            "\n"
          ]
        }
      ],
      "source": [
        "from sklearn.tree import DecisionTreeClassifier\n",
        "\n",
        "dt_model = DecisionTreeClassifier(criterion='entropy', random_state=42)\n",
        "dt_model.fit(X_train, y_train)\n",
        "y_pred_dt = dt_model.predict(X_test)\n",
        "acc_dt = accuracy_score(y_test, y_pred_dt)\n",
        "f1_dt = f1_score(y_test, y_pred_dt)\n",
        "error_rate = 1 - acc_dt\n",
        "print(f\"Decision Tree Accuracy: {acc_dt:.4f}\")\n",
        "print(f\"Error Rate: {error_rate:.4f}\")\n",
        "print(\"\\nConfusion Matrix:\\n\", confusion_matrix(y_test, y_pred_dt))\n",
        "print(f\"Classification Report\", classification_report(y_test, y_pred_dt))"
      ]
    },
    {
      "cell_type": "markdown",
      "metadata": {
        "id": "pgusA0ZNPGpu"
      },
      "source": [
        "used dt and rf but results are better with rf and lr"
      ]
    },
    {
      "cell_type": "code",
      "execution_count": 52,
      "metadata": {},
      "outputs": [
        {
          "name": "stderr",
          "output_type": "stream",
          "text": [
            "2025/05/26 02:31:30 WARNING mlflow.models.model: Model logged without a signature and input example. Please set `input_example` parameter when logging the model to auto infer the model signature.\n"
          ]
        },
        {
          "name": "stdout",
          "output_type": "stream",
          "text": [
            "\n",
            "Decision Tree model logged to MLflow.\n",
            "🏃 View run Decision Tree Classifier_Heart at: http://127.0.0.1:5000/#/experiments/250499424470930514/runs/55174d0ca898444e9c9be0af113dff2b\n",
            "🧪 View experiment at: http://127.0.0.1:5000/#/experiments/250499424470930514\n"
          ]
        }
      ],
      "source": [
        "mlflow.set_tracking_uri(\"http://127.0.0.1:5000\")\n",
        "mlflow.set_experiment(\"Decision Tree Experiment_Heart\")\n",
        "\n",
        "with mlflow.start_run(run_name=\"Decision Tree Classifier_Heart\"):\n",
        "\n",
        "    # Log parameters\n",
        "    mlflow.log_param(\"model\", \"DecisionTreeClassifier\")\n",
        "    mlflow.log_param(\"criterion\", \"entropy\")\n",
        "    mlflow.log_param(\"random_state\", 42)\n",
        "\n",
        "    # Log metrics\n",
        "    mlflow.log_metric(\"accuracy\", acc_dt)\n",
        "    mlflow.log_metric(\"f1_score\", f1_dt)\n",
        "    mlflow.log_metric(\"error_rate\", error_rate)\n",
        "\n",
        "    # Log the model\n",
        "    mlflow.sklearn.log_model(dt_model, \"Decision_Tree_Model_Heart\")\n",
        "\n",
        "    print(\"\\nDecision Tree model logged to MLflow.\")"
      ]
    },
    {
      "cell_type": "markdown",
      "metadata": {
        "id": "TXFoKSRJGLfp"
      },
      "source": [
        "# **Hybrid of DT and RF**"
      ]
    },
    {
      "cell_type": "code",
      "execution_count": 167,
      "metadata": {
        "colab": {
          "base_uri": "https://localhost:8080/"
        },
        "id": "gI_NXaL64S1p",
        "outputId": "5639bf29-259e-4a4b-91e7-dfb8da766681"
      },
      "outputs": [
        {
          "name": "stdout",
          "output_type": "stream",
          "text": [
            "Error Rate: 0.1475\n",
            "Hybrid DT + RF Model Accuracy: 0.8524590163934426\n",
            "\n",
            "Classification Report:\n",
            "               precision    recall  f1-score   support\n",
            "\n",
            "           0       0.78      0.97      0.86        29\n",
            "           1       0.96      0.75      0.84        32\n",
            "\n",
            "    accuracy                           0.85        61\n",
            "   macro avg       0.87      0.86      0.85        61\n",
            "weighted avg       0.87      0.85      0.85        61\n",
            "\n",
            "\n",
            "Confusion Matrix:\n",
            " [[28  1]\n",
            " [ 8 24]]\n"
          ]
        }
      ],
      "source": [
        "dt_model = DecisionTreeClassifier(criterion='entropy', random_state=42)\n",
        "rf_model = RandomForestClassifier(random_state=42)\n",
        "\n",
        "# Create VotingClassifier with hard voting (majority vote)\n",
        "hybrid_voting = VotingClassifier(\n",
        "    estimators=[('dt', dt_model), ('rf', rf_model)],\n",
        "    voting='hard'\n",
        ")\n",
        "\n",
        "# Train on training data\n",
        "hybrid_voting.fit(X_train, y_train)\n",
        "\n",
        "# Predict on test data\n",
        "final_pred = hybrid_voting.predict(X_test)\n",
        "\n",
        "# Evaluate\n",
        "from sklearn.metrics import accuracy_score, classification_report, confusion_matrix, f1_score\n",
        "\n",
        "f1_dt_rf_hyb = f1_score(y_test, final_pred)\n",
        "error_rate = 1 - accuracy_score(y_test, final_pred)\n",
        "\n",
        "print(f\"Error Rate: {error_rate:.4f}\")\n",
        "print(\"Hybrid DT + RF Model Accuracy:\", accuracy_score(y_test, final_pred))\n",
        "print(\"\\nClassification Report:\\n\", classification_report(y_test, final_pred))\n",
        "print(\"\\nConfusion Matrix:\\n\", confusion_matrix(y_test, final_pred))"
      ]
    },
    {
      "cell_type": "code",
      "execution_count": 56,
      "metadata": {},
      "outputs": [
        {
          "name": "stderr",
          "output_type": "stream",
          "text": [
            "2025/05/26 02:36:13 INFO mlflow.tracking.fluent: Experiment with name 'Hybrid_DT_RF_Voting_Classifier' does not exist. Creating a new experiment.\n",
            "2025/05/26 02:36:23 WARNING mlflow.models.model: Model logged without a signature and input example. Please set `input_example` parameter when logging the model to auto infer the model signature.\n"
          ]
        },
        {
          "name": "stdout",
          "output_type": "stream",
          "text": [
            "MLflow run completed. Accuracy: 0.8525, F1 Score: 0.8421\n",
            "🏃 View run Hybrid DT + RF Voting Classifier at: http://127.0.0.1:5000/#/experiments/602770852605154137/runs/0149182d0f1f41228802085599502cf2\n",
            "🧪 View experiment at: http://127.0.0.1:5000/#/experiments/602770852605154137\n"
          ]
        }
      ],
      "source": [
        "mlflow.set_tracking_uri(\"http://127.0.0.1:5000\")  \n",
        "mlflow.set_experiment(\"Hybrid_DT_RF_Voting_Classifier\")\n",
        "\n",
        "with mlflow.start_run(run_name=\"Hybrid DT + RF Voting Classifier\"):\n",
        "\n",
        "    # Log model parameters (for example, criterion for dt and rf default params)\n",
        "    mlflow.log_param(\"dt_criterion\", \"entropy\")\n",
        "    mlflow.log_param(\"rf_random_state\", 42)\n",
        "    mlflow.log_param(\"voting\", \"hard\")\n",
        "\n",
        "    # Log metrics\n",
        "    f1_dt_rf_hyb = f1_score(y_test, final_pred)\n",
        "    acc = accuracy_score(y_test, final_pred)\n",
        "    error_rate = 1 - acc\n",
        "\n",
        "    mlflow.log_metric(\"accuracy\", acc)\n",
        "    mlflow.log_metric(\"f1_score\", f1_dt_rf_hyb)\n",
        "    mlflow.log_metric(\"error_rate\", error_rate)\n",
        "\n",
        "    # Log the VotingClassifier model\n",
        "    mlflow.sklearn.log_model(hybrid_voting, \"Hybrid_DT_RF_Voting_Model\")\n",
        "\n",
        "    print(f\"MLflow run completed. Accuracy: {acc:.4f}, F1 Score: {f1_dt_rf_hyb:.4f}\")"
      ]
    },
    {
      "cell_type": "markdown",
      "metadata": {
        "id": "1OATXGD_aZRf"
      },
      "source": [
        "KNN"
      ]
    },
    {
      "cell_type": "code",
      "execution_count": 168,
      "metadata": {
        "colab": {
          "base_uri": "https://localhost:8080/"
        },
        "id": "lbCraOuPaaHX",
        "outputId": "ce150ac7-7253-4a59-b6e7-6d5116bbc75e"
      },
      "outputs": [
        {
          "name": "stdout",
          "output_type": "stream",
          "text": [
            "K-Nearest Neighbors Accuracy: 0.8852\n",
            "Error Rate: 0.1148\n",
            "\n",
            "Confusion Matrix:\n",
            " [[27  2]\n",
            " [ 5 27]]\n",
            "\n",
            "Classification Report\n",
            "               precision    recall  f1-score   support\n",
            "\n",
            "           0       0.84      0.93      0.89        29\n",
            "           1       0.93      0.84      0.89        32\n",
            "\n",
            "    accuracy                           0.89        61\n",
            "   macro avg       0.89      0.89      0.89        61\n",
            "weighted avg       0.89      0.89      0.89        61\n",
            "\n"
          ]
        }
      ],
      "source": [
        "from sklearn.neighbors import KNeighborsClassifier\n",
        "\n",
        "knn_model = KNeighborsClassifier(n_neighbors=5)\n",
        "knn_model.fit(X_train, y_train)\n",
        "y_pred_knn = knn_model.predict(X_test)\n",
        "acc_knn = accuracy_score(y_test, y_pred_knn)\n",
        "f1_knn = f1_score(y_test, y_pred_knn)\n",
        "error_rate = 1 - acc_knn\n",
        "print(f\"K-Nearest Neighbors Accuracy: {acc_knn:.4f}\")\n",
        "print(f\"Error Rate: {error_rate:.4f}\")\n",
        "\n",
        "print(\"\\nConfusion Matrix:\\n\", confusion_matrix(y_test, y_pred_knn))\n",
        "\n",
        "print(\"\\nClassification Report\\n\", classification_report(y_test, y_pred_knn))"
      ]
    },
    {
      "cell_type": "code",
      "execution_count": 59,
      "metadata": {
        "id": "eYERNo3q6TtV"
      },
      "outputs": [
        {
          "name": "stderr",
          "output_type": "stream",
          "text": [
            "2025/05/26 02:38:21 INFO mlflow.tracking.fluent: Experiment with name 'KNN_Classifier_Experiment_Heart' does not exist. Creating a new experiment.\n",
            "2025/05/26 02:38:30 WARNING mlflow.models.model: Model logged without a signature and input example. Please set `input_example` parameter when logging the model to auto infer the model signature.\n"
          ]
        },
        {
          "name": "stdout",
          "output_type": "stream",
          "text": [
            "KNN model logged to MLflow with Accuracy: 0.8852, F1 Score: 0.8852\n",
            "🏃 View run KNN Classifier_Heart at: http://127.0.0.1:5000/#/experiments/923646014596075451/runs/6a24bf6c608b4674b00b133c04c86340\n",
            "🧪 View experiment at: http://127.0.0.1:5000/#/experiments/923646014596075451\n"
          ]
        }
      ],
      "source": [
        "mlflow.set_tracking_uri(\"http://127.0.0.1:5000\")  # adjust if needed\n",
        "mlflow.set_experiment(\"KNN_Classifier_Experiment_Heart\")\n",
        "\n",
        "with mlflow.start_run(run_name=\"KNN Classifier_Heart\"):\n",
        "\n",
        "    # Log parameters\n",
        "    mlflow.log_param(\"model\", \"KNeighborsClassifier\")\n",
        "    mlflow.log_param(\"n_neighbors\", 5)\n",
        "\n",
        "    # Log metrics\n",
        "    mlflow.log_metric(\"accuracy\", acc_knn)\n",
        "    mlflow.log_metric(\"f1_score\", f1_knn)\n",
        "    mlflow.log_metric(\"error_rate\", error_rate)\n",
        "\n",
        "    # Log the model itself\n",
        "    mlflow.sklearn.log_model(knn_model, \"KNN_Model_Heart\")\n",
        "\n",
        "    print(f\"KNN model logged to MLflow with Accuracy: {acc_knn:.4f}, F1 Score: {f1_knn:.4f}\")"
      ]
    },
    {
      "cell_type": "markdown",
      "metadata": {
        "id": "PZQ7H0MUbCUN"
      },
      "source": [
        "NN"
      ]
    },
    {
      "cell_type": "code",
      "execution_count": 169,
      "metadata": {
        "colab": {
          "base_uri": "https://localhost:8080/"
        },
        "id": "XpVLz9U1bDWC",
        "outputId": "2607fc00-2dee-478f-884d-bb2b99f6e462"
      },
      "outputs": [
        {
          "name": "stdout",
          "output_type": "stream",
          "text": [
            "Neural Network Accuracy: 0.9016\n",
            "Error Rate: 0.0984\n",
            "\n",
            "Confusion Matrix:\n",
            " [[27  2]\n",
            " [ 4 28]]\n",
            "Classification Report               precision    recall  f1-score   support\n",
            "\n",
            "           0       0.87      0.93      0.90        29\n",
            "           1       0.93      0.88      0.90        32\n",
            "\n",
            "    accuracy                           0.90        61\n",
            "   macro avg       0.90      0.90      0.90        61\n",
            "weighted avg       0.90      0.90      0.90        61\n",
            "\n"
          ]
        }
      ],
      "source": [
        "from sklearn.neural_network import MLPClassifier\n",
        "\n",
        "# Train Neural Network\n",
        "nn_model = MLPClassifier(hidden_layer_sizes=(100,), max_iter=1000, random_state=42)\n",
        "nn_model.fit(X_train, y_train)\n",
        "\n",
        "# Predict and evaluate\n",
        "y_pred_nn = nn_model.predict(X_test)\n",
        "acc_nn = accuracy_score(y_test, y_pred_nn)\n",
        "f1_nn = f1_score(y_test, y_pred_nn)\n",
        "error_rate = 1 - acc_nn\n",
        "print(f\"Neural Network Accuracy: {acc_nn:.4f}\")\n",
        "print(f\"Error Rate: {error_rate:.4f}\")\n",
        "\n",
        "print(\"\\nConfusion Matrix:\\n\", confusion_matrix(y_test, y_pred_nn))\n",
        "\n",
        "print(f\"Classification Report\", classification_report(y_test, y_pred_nn))"
      ]
    },
    {
      "cell_type": "code",
      "execution_count": 64,
      "metadata": {},
      "outputs": [
        {
          "name": "stderr",
          "output_type": "stream",
          "text": [
            "2025/05/26 02:40:57 INFO mlflow.tracking.fluent: Experiment with name 'Neural Network Experiment_Heart' does not exist. Creating a new experiment.\n",
            "2025/05/26 02:41:06 WARNING mlflow.models.model: Model logged without a signature and input example. Please set `input_example` parameter when logging the model to auto infer the model signature.\n"
          ]
        },
        {
          "name": "stdout",
          "output_type": "stream",
          "text": [
            "Neural Network model logged to MLflow with Accuracy: 0.9016, F1 Score: 0.9032\n",
            "🏃 View run MLP Classifier_Heart at: http://127.0.0.1:5000/#/experiments/973209957503723410/runs/490778c6eaf14657b822ef9828f389ef\n",
            "🧪 View experiment at: http://127.0.0.1:5000/#/experiments/973209957503723410\n"
          ]
        }
      ],
      "source": [
        "mlflow.set_tracking_uri(\"http://127.0.0.1:5000\")  \n",
        "mlflow.set_experiment(\"Neural Network Experiment_Heart\")\n",
        "\n",
        "with mlflow.start_run(run_name=\"MLP Classifier_Heart\"):\n",
        "\n",
        "    # Log parameters\n",
        "    mlflow.log_param(\"model\", \"MLPClassifier\")\n",
        "    mlflow.log_param(\"hidden_layer_sizes\", (100,))\n",
        "    mlflow.log_param(\"max_iter\", 1000)\n",
        "\n",
        "    # Log metrics\n",
        "    mlflow.log_metric(\"accuracy\", acc_nn)\n",
        "    mlflow.log_metric(\"f1_score\", f1_nn)\n",
        "    mlflow.log_metric(\"error_rate\", error_rate)\n",
        "\n",
        "    # Log the model\n",
        "    mlflow.sklearn.log_model(nn_model, \"MLP_Model_Heart\")\n",
        "\n",
        "    print(f\"Neural Network model logged to MLflow with Accuracy: {acc_nn:.4f}, F1 Score: {f1_nn:.4f}\")"
      ]
    },
    {
      "cell_type": "markdown",
      "metadata": {
        "id": "tjzZQk6rbJ4X"
      },
      "source": [
        "Gradient Boosted Tress"
      ]
    },
    {
      "cell_type": "code",
      "execution_count": 170,
      "metadata": {
        "colab": {
          "base_uri": "https://localhost:8080/"
        },
        "id": "0K9rxjrNbPVZ",
        "outputId": "776085e4-ded3-4154-ebc0-d923634bd71c"
      },
      "outputs": [
        {
          "name": "stdout",
          "output_type": "stream",
          "text": [
            "Gradient Boosted Trees Accuracy: 0.8525\n",
            "Error Rate: 0.1475\n",
            "\n",
            "Confusion Matrix:\n",
            " [[27  2]\n",
            " [ 7 25]]\n",
            "Classification Report\n",
            "               precision    recall  f1-score   support\n",
            "\n",
            "           0       0.79      0.93      0.86        29\n",
            "           1       0.93      0.78      0.85        32\n",
            "\n",
            "    accuracy                           0.85        61\n",
            "   macro avg       0.86      0.86      0.85        61\n",
            "weighted avg       0.86      0.85      0.85        61\n",
            "\n"
          ]
        }
      ],
      "source": [
        "from sklearn.ensemble import GradientBoostingClassifier\n",
        "\n",
        "# Train Gradient Boosting\n",
        "gbt_model = GradientBoostingClassifier(random_state=42)\n",
        "gbt_model.fit(X_train, y_train)\n",
        "\n",
        "# Predict and evaluate\n",
        "y_pred_gbt = gbt_model.predict(X_test)\n",
        "acc_gbt = accuracy_score(y_test, y_pred_gbt)\n",
        "f1_gbt = f1_score(y_test, y_pred_gbt)\n",
        "error_rate = 1 - acc_gbt\n",
        "print(f\"Gradient Boosted Trees Accuracy: {acc_gbt:.4f}\")\n",
        "print(f\"Error Rate: {error_rate:.4f}\")\n",
        "\n",
        "print(\"\\nConfusion Matrix:\\n\", confusion_matrix(y_test, y_pred_gbt))\n",
        "print(f\"Classification Report\\n\", classification_report(y_test, y_pred_gbt))"
      ]
    },
    {
      "cell_type": "code",
      "execution_count": 67,
      "metadata": {},
      "outputs": [
        {
          "name": "stderr",
          "output_type": "stream",
          "text": [
            "2025/05/26 02:42:57 INFO mlflow.tracking.fluent: Experiment with name 'Gradient Boosting Experiment_Heart' does not exist. Creating a new experiment.\n",
            "2025/05/26 02:43:07 WARNING mlflow.models.model: Model logged without a signature and input example. Please set `input_example` parameter when logging the model to auto infer the model signature.\n"
          ]
        },
        {
          "name": "stdout",
          "output_type": "stream",
          "text": [
            "Gradient Boosting model logged to MLflow with Accuracy: 0.8525, F1 Score: 0.8475\n",
            "🏃 View run Gradient Boosting Classifier_Heart at: http://127.0.0.1:5000/#/experiments/713760469802613570/runs/05d49d82c1004c0f80ab004373978ea0\n",
            "🧪 View experiment at: http://127.0.0.1:5000/#/experiments/713760469802613570\n"
          ]
        }
      ],
      "source": [
        "mlflow.set_tracking_uri(\"http://127.0.0.1:5000\")  \n",
        "mlflow.set_experiment(\"Gradient Boosting Experiment_Heart\")\n",
        "\n",
        "with mlflow.start_run(run_name=\"Gradient Boosting Classifier_Heart\"):\n",
        "\n",
        "    # Log parameters\n",
        "    mlflow.log_param(\"model\", \"GradientBoostingClassifier\")\n",
        "    mlflow.log_param(\"random_state\", 42)\n",
        "\n",
        "    # Log metrics\n",
        "    mlflow.log_metric(\"accuracy\", acc_gbt)\n",
        "    mlflow.log_metric(\"f1_score\", f1_gbt)\n",
        "    mlflow.log_metric(\"error_rate\", error_rate)\n",
        "\n",
        "    # Log the model itself\n",
        "    mlflow.sklearn.log_model(gbt_model, \"GradientBoosting_Model_Hrat\")\n",
        "\n",
        "    print(f\"Gradient Boosting model logged to MLflow with Accuracy: {acc_gbt:.4f}, F1 Score: {f1_gbt:.4f}\")"
      ]
    },
    {
      "cell_type": "markdown",
      "metadata": {
        "id": "qDPDD6Q3bmnf"
      },
      "source": [
        "XGBoost"
      ]
    },
    {
      "cell_type": "code",
      "execution_count": 171,
      "metadata": {
        "colab": {
          "base_uri": "https://localhost:8080/"
        },
        "id": "M64m_0G5bn02",
        "outputId": "e8e42cdf-3f33-44f0-dbfb-acd2f26c1d4a"
      },
      "outputs": [
        {
          "name": "stdout",
          "output_type": "stream",
          "text": [
            "XGBoost Accuracy: 0.8525\n",
            "Error Rate: 0.1475\n",
            "\n",
            "Confusion Matrix:\n",
            " [[26  3]\n",
            " [ 6 26]]\n",
            "Classification Report\n",
            "               precision    recall  f1-score   support\n",
            "\n",
            "           0       0.81      0.90      0.85        29\n",
            "           1       0.90      0.81      0.85        32\n",
            "\n",
            "    accuracy                           0.85        61\n",
            "   macro avg       0.85      0.85      0.85        61\n",
            "weighted avg       0.86      0.85      0.85        61\n",
            "\n"
          ]
        },
        {
          "name": "stderr",
          "output_type": "stream",
          "text": [
            "e:\\python projects\\venv\\Lib\\site-packages\\xgboost\\training.py:183: UserWarning: [05:29:37] WARNING: C:\\actions-runner\\_work\\xgboost\\xgboost\\src\\learner.cc:738: \n",
            "Parameters: { \"use_label_encoder\" } are not used.\n",
            "\n",
            "  bst.update(dtrain, iteration=i, fobj=obj)\n"
          ]
        }
      ],
      "source": [
        "from xgboost import XGBClassifier\n",
        "\n",
        "\n",
        "# Train XGBoost\n",
        "xgb_model = XGBClassifier(use_label_encoder=False, eval_metric='logloss', random_state=42)\n",
        "xgb_model.fit(X_train, y_train)\n",
        "\n",
        "# Predict and evaluate\n",
        "y_pred_xgb = xgb_model.predict(X_test)\n",
        "acc_xgb = accuracy_score(y_test, y_pred_xgb)\n",
        "f1_xgb = f1_score(y_test, y_pred_xgb)\n",
        "error_rate = 1 - acc_xgb\n",
        "print(f\"XGBoost Accuracy: {acc_xgb:.4f}\")\n",
        "print(f\"Error Rate: {error_rate:.4f}\")\n",
        "print(\"\\nConfusion Matrix:\\n\", confusion_matrix(y_test, y_pred_xgb))\n",
        "print(f\"Classification Report\\n\", classification_report(y_test, y_pred_xgb))"
      ]
    },
    {
      "cell_type": "code",
      "execution_count": 73,
      "metadata": {},
      "outputs": [
        {
          "name": "stderr",
          "output_type": "stream",
          "text": [
            "2025/05/26 02:45:20 INFO mlflow.tracking.fluent: Experiment with name 'XGBoost Experiment_Heart' does not exist. Creating a new experiment.\n",
            "e:\\python projects\\venv\\Lib\\site-packages\\xgboost\\sklearn.py:1028: UserWarning: [02:45:21] WARNING: C:\\actions-runner\\_work\\xgboost\\xgboost\\src\\c_api\\c_api.cc:1427: Saving model in the UBJSON format as default.  You can use file extension: `json`, `ubj` or `deprecated` to choose between formats.\n",
            "  self.get_booster().save_model(fname)\n",
            "2025/05/26 02:45:30 WARNING mlflow.models.model: Model logged without a signature and input example. Please set `input_example` parameter when logging the model to auto infer the model signature.\n"
          ]
        },
        {
          "name": "stdout",
          "output_type": "stream",
          "text": [
            "XGBoost model logged to MLflow with Accuracy: 0.8525, F1 Score: 0.8525\n",
            "🏃 View run XGBoost Classifier_Heart at: http://127.0.0.1:5000/#/experiments/526397480420464159/runs/5d2588832d624c4382c12041ca0a2997\n",
            "🧪 View experiment at: http://127.0.0.1:5000/#/experiments/526397480420464159\n"
          ]
        }
      ],
      "source": [
        "mlflow.set_tracking_uri(\"http://127.0.0.1:5000\")  # Set your MLflow tracking server\n",
        "mlflow.set_experiment(\"XGBoost Experiment_Heart\")\n",
        "\n",
        "with mlflow.start_run(run_name=\"XGBoost Classifier_Heart\"):\n",
        "\n",
        "    # Log parameters\n",
        "    mlflow.log_param(\"model\", \"XGBClassifier\")\n",
        "    mlflow.log_param(\"eval_metric\", \"logloss\")\n",
        "    mlflow.log_param(\"random_state\", 42)\n",
        "\n",
        "    # Log metrics\n",
        "    mlflow.log_metric(\"accuracy\", acc_xgb)\n",
        "    mlflow.log_metric(\"f1_score\", f1_xgb)\n",
        "    mlflow.log_metric(\"error_rate\", error_rate)\n",
        "\n",
        "    # Log the model\n",
        "    mlflow.xgboost.log_model(xgb_model, \"XGBoost_Model_Heart\")\n",
        "\n",
        "    print(f\"XGBoost model logged to MLflow with Accuracy: {acc_xgb:.4f}, F1 Score: {f1_xgb:.4f}\")"
      ]
    },
    {
      "cell_type": "code",
      "execution_count": 112,
      "metadata": {},
      "outputs": [
        {
          "data": {
            "image/png": "[encoded data removed]",
            "text/plain": [
              "<IPython.core.display.Image object>"
            ]
          },
          "execution_count": 112,
          "metadata": {},
          "output_type": "execute_result"
        }
      ],
      "source": [
        "from IPython.display import Image\n",
        "\n",
        "after_feature = \"E:/python projects/assigment1 PAI ss/Heart/acc_9_models_heart.png\"\n",
        "Image(after_feature)"
      ]
    },
    {
      "cell_type": "markdown",
      "metadata": {
        "id": "dsX8EKpeHz6q"
      },
      "source": [
        "roc"
      ]
    },
    {
      "cell_type": "code",
      "execution_count": null,
      "metadata": {
        "colab": {
          "base_uri": "https://localhost:8080/",
          "height": 883
        },
        "id": "f-4rIRajHyoo",
        "outputId": "48dfc8a3-ff00-4597-a1a8-03931888fcc7"
      },
      "outputs": [
        {
          "data": {
            "image/png": "[encoded data removed]",
            "text/plain": [
              "<Figure size 1500x1200 with 9 Axes>"
            ]
          },
          "metadata": {},
          "output_type": "display_data"
        }
      ],
      "source": [
        "import matplotlib.pyplot as plt\n",
        "from sklearn.metrics import roc_curve, auc\n",
        "from sklearn.exceptions import NotFittedError\n",
        "\n",
        "models = {\n",
        "    'Decision Tree': dt_model,\n",
        "    'KNN': knn_model,\n",
        "    'Random Forest': rf_model,\n",
        "    'Logistic Regression': lr_model,\n",
        "    'XGBoost': xgb_model,\n",
        "    'Gradient Boosting': gbt_model,\n",
        "    'Neural Network': nn_model,\n",
        "    'Naive Bayes': nb_model,\n",
        "    'SVM': svm_model\n",
        "}\n",
        "\n",
        "n_models = len(models)\n",
        "cols = 3\n",
        "rows = (n_models + cols - 1) // cols\n",
        "\n",
        "plt.figure(figsize=(5*cols, 4*rows))\n",
        "\n",
        "for i, (name, model) in enumerate(models.items(), 1):\n",
        "    plt.subplot(rows, cols, i)\n",
        "    try:\n",
        "        if hasattr(model, \"predict_proba\"):\n",
        "            y_score = model.predict_proba(X_test)[:, 1]\n",
        "        elif hasattr(model, \"decision_function\"):\n",
        "            y_score = model.decision_function(X_test)\n",
        "        else:\n",
        "            raise AttributeError(\"Model has no method to get scores for ROC curve\")\n",
        "\n",
        "        fpr, tpr, _ = roc_curve(y_test, y_score)\n",
        "        roc_auc = auc(fpr, tpr)\n",
        "\n",
        "        plt.plot(fpr, tpr, label=f'AUC = {roc_auc:.2f}')\n",
        "        plt.plot([0, 1], [0, 1], 'k--')\n",
        "        plt.title(f'ROC Curve: {name}')\n",
        "        plt.xlabel('False Positive Rate')\n",
        "        plt.ylabel('True Positive Rate')\n",
        "        plt.legend(loc='lower right')\n",
        "    except NotFittedError:\n",
        "        plt.text(0.5, 0.5, 'Model not fitted', ha='center', va='center')\n",
        "        plt.title(f'ROC Curve: {name}')\n",
        "        plt.axis('off')\n",
        "    except Exception as e:\n",
        "        plt.text(0.5, 0.5, str(e), ha='center', va='center')\n",
        "        plt.title(f'ROC Curve: {name}')\n",
        "        plt.axis('off')\n",
        "\n",
        "# Add more space between subplots\n",
        "plt.tight_layout(pad=3.0)  \n",
        "# Or use plt.subplots_adjust if you want even more control\n",
        "# plt.subplots_adjust(wspace=0.4, hspace=0.6)\n",
        "\n",
        "plt.show()\n"
      ]
    },
    {
      "cell_type": "markdown",
      "metadata": {
        "id": "XjDcw87F_iNi"
      },
      "source": [
        "8 fold"
      ]
    },
    {
      "cell_type": "code",
      "execution_count": null,
      "metadata": {
        "colab": {
          "base_uri": "https://localhost:8080/",
          "height": 718
        },
        "id": "cFV4qF7R_khm",
        "outputId": "e3818f63-b93f-49d8-9972-ee1a40bf4a10"
      },
      "outputs": [
        {
          "name": "stdout",
          "output_type": "stream",
          "text": [
            "Random Forest acc: 0.8416\n",
            "Random Forest Overall Error Rate (8-fold CV): 0.1584\n",
            "Decision Tree acc: 0.7395\n",
            "Decision Tree Overall Error Rate (8-fold CV): 0.2605\n",
            "SVM acc: 0.8186\n",
            "SVM Overall Error Rate (8-fold CV): 0.1814\n"
          ]
        },
        {
          "data": {
            "image/png": "[encoded data removed]",
            "text/plain": [
              "<Figure size 600x600 with 1 Axes>"
            ]
          },
          "metadata": {},
          "output_type": "display_data"
        }
      ],
      "source": [
        "from sklearn.model_selection import KFold\n",
        "from sklearn.metrics import accuracy_score\n",
        "import numpy as np\n",
        "from sklearn.ensemble import RandomForestClassifier\n",
        "from sklearn.tree import DecisionTreeClassifier\n",
        "from sklearn.svm import SVC\n",
        "\n",
        "\n",
        "kf = KFold(n_splits=8, shuffle=True, random_state=42)\n",
        "\n",
        "models = {\n",
        "    'Random Forest': RandomForestClassifier(random_state=42),\n",
        "    'Decision Tree': DecisionTreeClassifier(random_state=42),\n",
        "    'SVM': SVC(kernel='linear', probability=True, random_state=42)  # probability=True for predict_proba\n",
        "}\n",
        "\n",
        "# Dictionary to store error rates per model\n",
        "error_rates = {name: [] for name in models.keys()}\n",
        "\n",
        "for train_index, test_index in kf.split(X):\n",
        "    # Using .iloc to select rows by integer position\n",
        "    X_train, X_test = X.iloc[train_index], X.iloc[test_index]\n",
        "    y_train, y_test = y.iloc[train_index], y.iloc[test_index]\n",
        "\n",
        "    for name, model in models.items():\n",
        "        model.fit(X_train, y_train)\n",
        "        y_pred = model.predict(X_test)\n",
        "        acc = accuracy_score(y_test, y_pred)\n",
        "        error_rate = 1 - acc\n",
        "        error_rates[name].append(error_rate)\n",
        "\n",
        "# Calculating and printing average error rate per model\n",
        "for name in models.keys():\n",
        "    avg_error = np.mean(error_rates[name])\n",
        "    avg_acc = np.mean(1 - np.array(error_rates[name]))\n",
        "\n",
        "    print(f\"{name} acc: {avg_acc:.4f}\")\n",
        "    print(f\"{name} Overall Error Rate (8-fold CV): {avg_error:.4f}\")\n",
        "\n",
        "\n",
        "folds = np.arange(1, 9)  # Fold numbers 1 to 8\n",
        "bar_width = 0.25\n",
        "x = np.arange(len(folds))\n",
        "\n",
        "plt.figure(figsize=(6, 6))\n",
        "\n",
        "# Plotting each model's error bars with offset\n",
        "for i, (name, errors) in enumerate(error_rates.items()):\n",
        "    plt.bar(x + i * bar_width, errors, width=bar_width, label=name)\n",
        "\n",
        "plt.xlabel(\"Fold Number\")\n",
        "plt.ylabel(\"Error Rate\")\n",
        "plt.title(\"Error Rate per Fold (8-Fold CV)\")\n",
        "plt.xticks(x + bar_width, folds)\n",
        "plt.ylim(0, 0.5)\n",
        "plt.legend()\n",
        "plt.grid(axis='y')\n",
        "plt.tight_layout()\n",
        "plt.show()\n"
      ]
    },
    {
      "cell_type": "code",
      "execution_count": 151,
      "metadata": {},
      "outputs": [
        {
          "name": "stdout",
          "output_type": "stream",
          "text": [
            "Random Forest acc: 0.8416\n",
            "Random Forest Overall Error Rate (8-fold CV): 0.1584\n"
          ]
        },
        {
          "name": "stderr",
          "output_type": "stream",
          "text": [
            "2025/05/26 05:15:21 WARNING mlflow.models.model: Model logged without a signature and input example. Please set `input_example` parameter when logging the model to auto infer the model signature.\n"
          ]
        },
        {
          "name": "stdout",
          "output_type": "stream",
          "text": [
            "🏃 View run Random Forest_8FoldCV_Heart at: http://127.0.0.1:5000/#/experiments/256672308936108572/runs/50e46dd309bc4e7b9ecac93757b791d1\n",
            "🧪 View experiment at: http://127.0.0.1:5000/#/experiments/256672308936108572\n",
            "Decision Tree acc: 0.7395\n",
            "Decision Tree Overall Error Rate (8-fold CV): 0.2605\n"
          ]
        },
        {
          "name": "stderr",
          "output_type": "stream",
          "text": [
            "2025/05/26 05:15:26 WARNING mlflow.models.model: Model logged without a signature and input example. Please set `input_example` parameter when logging the model to auto infer the model signature.\n"
          ]
        },
        {
          "name": "stdout",
          "output_type": "stream",
          "text": [
            "🏃 View run Decision Tree_8FoldCV_Heart at: http://127.0.0.1:5000/#/experiments/256672308936108572/runs/5e6fdada833543c5bfcfe23180af2193\n",
            "🧪 View experiment at: http://127.0.0.1:5000/#/experiments/256672308936108572\n",
            "SVM acc: 0.8186\n",
            "SVM Overall Error Rate (8-fold CV): 0.1814\n"
          ]
        },
        {
          "name": "stderr",
          "output_type": "stream",
          "text": [
            "2025/05/26 05:15:30 WARNING mlflow.models.model: Model logged without a signature and input example. Please set `input_example` parameter when logging the model to auto infer the model signature.\n"
          ]
        },
        {
          "name": "stdout",
          "output_type": "stream",
          "text": [
            "🏃 View run SVM_8FoldCV_Heart at: http://127.0.0.1:5000/#/experiments/256672308936108572/runs/65cf3012513c41cda23c5b4542c03274\n",
            "🧪 View experiment at: http://127.0.0.1:5000/#/experiments/256672308936108572\n"
          ]
        }
      ],
      "source": [
        "for name in models.keys():\n",
        "    avg_error = np.mean(error_rates[name])\n",
        "    avg_acc = 1 - avg_error\n",
        "\n",
        "    print(f\"{name} acc: {avg_acc:.4f}\")\n",
        "    print(f\"{name} Overall Error Rate (8-fold CV): {avg_error:.4f}\")\n",
        "\n",
        "    with mlflow.start_run(run_name=f\"{name}_8FoldCV_Heart\"):\n",
        "        mlflow.log_param(\"model\", name)\n",
        "        mlflow.log_param(\"cv_folds\", 8)\n",
        "        mlflow.log_metric(\"avg_accuracy\", avg_acc)\n",
        "        mlflow.log_metric(\"avg_error_rate\", avg_error)\n",
        "        mlflow.sklearn.log_model(models[name], f\"{name}_model\")"
      ]
    },
    {
      "cell_type": "code",
      "execution_count": 114,
      "metadata": {},
      "outputs": [
        {
          "data": {
            "image/png": "[encoded data removed]",
            "text/plain": [
              "<IPython.core.display.Image object>"
            ]
          },
          "execution_count": 114,
          "metadata": {},
          "output_type": "execute_result"
        }
      ],
      "source": [
        "from IPython.display import Image\n",
        "\n",
        "Fold8 = \"E:/python projects/assigment1 PAI ss/Heart/8fold.png\"\n",
        "Image(Fold8)"
      ]
    },
    {
      "cell_type": "code",
      "execution_count": 177,
      "metadata": {
        "colab": {
          "base_uri": "https://localhost:8080/",
          "height": 1000
        },
        "id": "JHyR7PUTJSy1",
        "outputId": "441841b1-1e3d-4af6-97fe-2297a762d810"
      },
      "outputs": [
        {
          "name": "stderr",
          "output_type": "stream",
          "text": [
            "C:\\Users\\user\\AppData\\Local\\Temp\\ipykernel_272\\3046429049.py:22: FutureWarning: \n",
            "\n",
            "Passing `palette` without assigning `hue` is deprecated and will be removed in v0.14.0. Assign the `x` variable to `hue` and set `legend=False` for the same effect.\n",
            "\n",
            "  sns.barplot(x=list(results.keys()), y=list(results.values()), palette=\"viridis\")\n"
          ]
        },
        {
          "data": {
            "image/png": "[encoded data removed]",
            "text/plain": [
              "<Figure size 600x600 with 1 Axes>"
            ]
          },
          "metadata": {},
          "output_type": "display_data"
        },
        {
          "name": "stderr",
          "output_type": "stream",
          "text": [
            "C:\\Users\\user\\AppData\\Local\\Temp\\ipykernel_272\\3046429049.py:39: FutureWarning: \n",
            "\n",
            "Passing `palette` without assigning `hue` is deprecated and will be removed in v0.14.0. Assign the `x` variable to `hue` and set `legend=False` for the same effect.\n",
            "\n",
            "  sns.barplot(x=list(f1_results.keys()), y=list(f1_results.values()), palette=\"viridis\")\n"
          ]
        },
        {
          "data": {
            "image/png": "[encoded data removed]",
            "text/plain": [
              "<Figure size 700x500 with 1 Axes>"
            ]
          },
          "metadata": {},
          "output_type": "display_data"
        }
      ],
      "source": [
        "import matplotlib.pyplot as plt\n",
        "import seaborn as sns\n",
        "\n",
        "# Accuracy and F1 scores\n",
        "results = {\n",
        "    'Random Forest': acc_rf,\n",
        "    'SVM': acc_svm,\n",
        "    'Logistic Regression': acc_lr, \n",
        "    'Neural Network': acc_nn\n",
        "}\n",
        "\n",
        "f1_results = {\n",
        "    'Random Forest': f1_rf,\n",
        "    'SVM': f1_svm,\n",
        "    'Logistic Regression': f1_lr,\n",
        "    'Neural Network': f1_nn\n",
        "\n",
        "}\n",
        "\n",
        "# Plot Accuracy\n",
        "plt.figure(figsize=(6, 6))\n",
        "sns.barplot(x=list(results.keys()), y=list(results.values()), palette=\"viridis\")\n",
        "\n",
        "# Add value labels on bars\n",
        "for i, (model, acc) in enumerate(results.items()):\n",
        "    plt.text(i, acc + 0.01, f\"{acc:.2f}\", ha='center', va='bottom', fontweight='bold')\n",
        "\n",
        "plt.title('Model Accuracy Comparison', fontsize=14, fontweight='bold')\n",
        "plt.ylabel('Accuracy Score', fontsize=12)\n",
        "plt.xlabel('Machine Learning Models', fontsize=12)\n",
        "plt.ylim(0, 1.1)\n",
        "plt.grid(axis='y', linestyle='--', alpha=0.6)\n",
        "plt.xticks(rotation=30)\n",
        "plt.tight_layout()\n",
        "plt.show()\n",
        "\n",
        "# Plot F1 Score\n",
        "plt.figure(figsize=(7, 5))\n",
        "sns.barplot(x=list(f1_results.keys()), y=list(f1_results.values()), palette=\"viridis\")\n",
        "\n",
        "# Add value labels on bars\n",
        "for i, (model, f1) in enumerate(f1_results.items()):\n",
        "    plt.text(i, f1 + 0.01, f\"{f1:.2f}\", ha='center', va='bottom', fontweight='bold')\n",
        "\n",
        "plt.title('Model F1-Score Comparison', fontsize=14, fontweight='bold')\n",
        "plt.ylabel('F1 Score', fontsize=12)\n",
        "plt.xlabel('Machine Learning Models', fontsize=12)\n",
        "plt.ylim(0, 1.1)\n",
        "plt.grid(axis='y', linestyle='--', alpha=0.6)\n",
        "plt.xticks(rotation=30)\n",
        "plt.tight_layout()\n",
        "plt.show()\n"
      ]
    },
    {
      "cell_type": "markdown",
      "metadata": {
        "id": "Ltl88q4YQuUv"
      },
      "source": [
        "# **Hybrid RF and LR**"
      ]
    },
    {
      "cell_type": "code",
      "execution_count": null,
      "metadata": {
        "id": "DIKOBxZ5LLwW"
      },
      "outputs": [
        {
          "name": "stdout",
          "output_type": "stream",
          "text": [
            "Logistic Regression Accuracy: 0.8852459016393442\n",
            "Random Forest Accuracy: 0.9180327868852459\n",
            "\n",
            "Hybrid (Logistic Regression + RF) Accuracy: 0.918918918918919\n",
            "\n",
            "Error Rate: 0.08108108108108103\n",
            "\n",
            "confusion Matrix:\n",
            " [[20  1]\n",
            " [ 2 14]]\n",
            "\n",
            "Classification Report:\n",
            "               precision    recall  f1-score   support\n",
            "\n",
            "           0       0.91      0.95      0.93        21\n",
            "           1       0.93      0.88      0.90        16\n",
            "\n",
            "    accuracy                           0.92        37\n",
            "   macro avg       0.92      0.91      0.92        37\n",
            "weighted avg       0.92      0.92      0.92        37\n",
            "\n"
          ]
        }
      ],
      "source": [
        "\n",
        "print(\"Logistic Regression Accuracy:\", acc_lr)\n",
        "print(\"Random Forest Accuracy:\", acc_rf)\n",
        "\n",
        "# Combining into hybrid model\n",
        "voting_clf = VotingClassifier(\n",
        "    estimators=[\n",
        "        ('lr', lr_model),\n",
        "        ('rf', rf_model)\n",
        "    ],\n",
        "    voting='hard'  \n",
        ")\n",
        "\n",
        "voting_clf.fit(X_train, y_train)\n",
        "voting_pred = voting_clf.predict(X_test)\n",
        "print(\"\\nHybrid (Logistic Regression + RF) Accuracy:\", accuracy_score(y_test, voting_pred))\n",
        "print(\"\\nError Rate:\", 1 - accuracy_score(y_test, voting_pred))\n",
        "print(\"\\nconfusion Matrix:\\n\" , confusion_matrix(y_test, voting_pred))\n",
        "print(\"\\nClassification Report:\\n\", classification_report(y_test, voting_pred))"
      ]
    },
    {
      "cell_type": "code",
      "execution_count": null,
      "metadata": {},
      "outputs": [
        {
          "name": "stderr",
          "output_type": "stream",
          "text": [
            "2025/05/26 03:25:24 INFO mlflow.tracking.fluent: Experiment with name 'Hybrid_LR_RF_VotingClassifier_Heart' does not exist. Creating a new experiment.\n",
            "2025/05/26 03:25:29 WARNING mlflow.models.model: Model logged without a signature and input example. Please set `input_example` parameter when logging the model to auto infer the model signature.\n"
          ]
        },
        {
          "name": "stdout",
          "output_type": "stream",
          "text": [
            "🏃 View run Hybrid_LR_RF_VotingClassifier_Heart at: http://127.0.0.1:5000/#/experiments/256672308936108572/runs/0acab20485a242d788fcff263be03f1d\n",
            "🧪 View experiment at: http://127.0.0.1:5000/#/experiments/256672308936108572\n"
          ]
        }
      ],
      "source": [
        "mlflow.set_tracking_uri(\"http://127.0.0.1:5000\")  # Set your MLflow tracking server\n",
        "mlflow.set_experiment(\"Hybrid_LR_RF_VotingClassifier_Heart\")\n",
        "with mlflow.start_run(run_name=\"Hybrid_LR_RF_VotingClassifier_Heart\"):\n",
        "\n",
        "  \n",
        "    # Metrics\n",
        "    acc = accuracy_score(y_test, voting_pred)\n",
        "    err = 1 - acc\n",
        "    conf_mat = confusion_matrix(y_test, voting_pred)\n",
        "    class_rep = classification_report(y_test, voting_pred, output_dict=True)\n",
        "\n",
        "    # Log metrics\n",
        "    mlflow.log_metric(\"Hybrid_Accuracy\", acc)\n",
        "    mlflow.log_metric(\"Hybrid_Error_Rate\", err)\n",
        "    \n",
        "    # Log classification report values separately (precision, recall, f1 for class 0 & 1)\n",
        "    mlflow.log_metric(\"F1_score_class_0\", class_rep['0']['f1-score'])\n",
        "    mlflow.log_metric(\"F1_score_class_1\", class_rep['1']['f1-score'])\n",
        "    mlflow.log_metric(\"Precision_class_1\", class_rep['1']['precision'])\n",
        "    mlflow.log_metric(\"Recall_class_1\", class_rep['1']['recall'])\n",
        "\n",
        "    # Log model\n",
        "    mlflow.sklearn.log_model(voting_clf, \"voting_model_Heart\")"
      ]
    },
    {
      "cell_type": "code",
      "execution_count": 115,
      "metadata": {},
      "outputs": [
        {
          "data": {
            "image/png": "[encoded data removed]",
            "text/plain": [
              "<IPython.core.display.Image object>"
            ]
          },
          "execution_count": 115,
          "metadata": {},
          "output_type": "execute_result"
        }
      ],
      "source": [
        "from IPython.display import Image\n",
        "\n",
        "HRFLR = \"E:/python projects/assigment1 PAI ss/Heart/acc_with_HRFLR.png\"\n",
        "Image(HRFLR)"
      ]
    },
    {
      "cell_type": "code",
      "execution_count": null,
      "metadata": {
        "id": "z_7miB0A8dJ9"
      },
      "outputs": [
        {
          "data": {
            "image/png": "[encoded data removed]",
            "text/plain": [
              "<Figure size 1400x700 with 1 Axes>"
            ]
          },
          "metadata": {},
          "output_type": "display_data"
        }
      ],
      "source": [
        "import matplotlib.pyplot as plt\n",
        "import numpy as np\n",
        "\n",
        "# Model names\n",
        "model_names = [\n",
        "    \"Logistic Regression\", \"Random Forest\", \"Naive Bayes\", \"KNN\", \"SVM\",\n",
        "    \"Neural Network\", \"Decision Tree\", \"Gradient Boosting\", \"XGBoost\", \"Hybrid (LR+RF)\"\n",
        "]\n",
        "\n",
        "# Accuracy scores \n",
        "accuracies = [\n",
        "    acc_lr, acc_rf, acc_nb, acc_knn, acc_svm,\n",
        "    acc_nn, acc_dt, acc_gbt, acc_xgb, acc_voting\n",
        "]\n",
        "\n",
        "# F1 scores \n",
        "f1_scores = [\n",
        "    f1_lr, f1_rf, f1_nb, f1_knn, f1_svm,\n",
        "    f1_nn, f1_dt, f1_gbt, f1_xgb, f1_voting\n",
        "]\n",
        "\n",
        "# Bar width and x locations\n",
        "bar_width = 0.35\n",
        "x = np.arange(len(model_names))\n",
        "\n",
        "plt.figure(figsize=(14, 7))\n",
        "\n",
        "# Plot Accuracy bars\n",
        "acc_bars = plt.bar(x - bar_width/2, accuracies, bar_width, label='Accuracy', color='skyblue')\n",
        "\n",
        "# Plot F1 Score bars\n",
        "f1_bars = plt.bar(x + bar_width/2, f1_scores, bar_width, label='F1 Score', color='lightcoral')\n",
        "\n",
        "plt.xticks(x, model_names, rotation=45, ha='right')\n",
        "plt.ylim(0, 1.05)\n",
        "plt.ylabel('Score')\n",
        "plt.title('Model Accuracy and F1 Score Comparison')\n",
        "plt.legend()\n",
        "\n",
        "# Add value labels on top of bars for accuracy\n",
        "for bar in acc_bars:\n",
        "    yval = bar.get_height()\n",
        "    plt.text(bar.get_x() + bar.get_width()/2, yval + 0.02, f'{yval:.2f}', ha='center', va='bottom', fontsize=9)\n",
        "\n",
        "# Add value labels on top of bars for f1 score\n",
        "for bar in f1_bars:\n",
        "    yval = bar.get_height()\n",
        "    plt.text(bar.get_x() + bar.get_width()/2, yval + 0.02, f'{yval:.2f}', ha='center', va='bottom', fontsize=9)\n",
        "\n",
        "plt.tight_layout()\n",
        "plt.show()\n"
      ]
    }
  ],
  "metadata": {
    "colab": {
      "provenance": []
    },
    "kernelspec": {
      "display_name": "venv",
      "language": "python",
      "name": "python3"
    },
    "language_info": {
      "codemirror_mode": {
        "name": "ipython",
        "version": 3
      },
      "file_extension": ".py",
      "mimetype": "text/x-python",
      "name": "python",
      "nbconvert_exporter": "python",
      "pygments_lexer": "ipython3",
      "version": "3.11.9"
    }
  },
  "nbformat": 4,
  "nbformat_minor": 0
}
